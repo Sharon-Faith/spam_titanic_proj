{
  "nbformat": 4,
  "nbformat_minor": 0,
  "metadata": {
    "colab": {
      "name": "spam_proj.ipynb",
      "provenance": [],
      "collapsed_sections": [
        "kLG2VTrnTvYL",
        "XecOwPNorl2W",
        "J4wfHZwQrs-t",
        "a9BPYqunry97",
        "7KMRBJ7zr9HD",
        "zSGyg6kWsBUl",
        "iUNbvIvnT7ep",
        "OI3P3YnHUEBk",
        "ckfufNrcUHeH",
        "6XC_g-zKxe-r",
        "FlBMxEDBUc9B",
        "rF2ABPsHUtbZ",
        "vTbdjSrhVIiT",
        "lQ2G4ZPDVOXE",
        "xrmHVMVsVS--",
        "HPQviDmNtta8",
        "qjFHK1CKty7o",
        "HSsicSdvt4Zs"
      ],
      "toc_visible": true,
      "include_colab_link": true
    },
    "kernelspec": {
      "name": "python3",
      "display_name": "Python 3"
    }
  },
  "cells": [
    {
      "cell_type": "markdown",
      "metadata": {
        "id": "view-in-github",
        "colab_type": "text"
      },
      "source": [
        "<a href=\"https://colab.research.google.com/github/Sharon-Faith/spam_titanic_proj/blob/main/spam_proj.ipynb\" target=\"_parent\"><img src=\"https://colab.research.google.com/assets/colab-badge.svg\" alt=\"Open In Colab\"/></a>"
      ]
    },
    {
      "cell_type": "markdown",
      "metadata": {
        "id": "kLG2VTrnTvYL"
      },
      "source": [
        "## Introduction"
      ]
    },
    {
      "cell_type": "markdown",
      "metadata": {
        "id": "XecOwPNorl2W"
      },
      "source": [
        "### a) Specifying the Question"
      ]
    },
    {
      "cell_type": "markdown",
      "source": [
        "The purpose of the study to create a model that will be able to determine whether or not an email is spam using the information in the dataset found [here](https://archive.ics.uci.edu/ml/datasets/Spambase)."
      ],
      "metadata": {
        "id": "FvImeg6K29pb"
      }
    },
    {
      "cell_type": "markdown",
      "metadata": {
        "id": "J4wfHZwQrs-t"
      },
      "source": [
        "### b) Defining the Metric for Success"
      ]
    },
    {
      "cell_type": "markdown",
      "source": [
        "* Creating a model that will be able to determine whether or not an email is spam.\n"
      ],
      "metadata": {
        "id": "G-an8aVB1TF1"
      }
    },
    {
      "cell_type": "markdown",
      "metadata": {
        "id": "a9BPYqunry97"
      },
      "source": [
        "### c) Understanding the context "
      ]
    },
    {
      "cell_type": "markdown",
      "source": [
        "Spam, also known as junk mail, refers to emails that are unsolicited and sent in bulk to a large list of recipients. They can be sent by humans directly, but more often by bots. They are mostly commercial in nature eg advertisements for products/web sites, but also include make money fast schemes, chain letters etc. There are words and characters that are common in spam and these may be flagged and aid in identifying spam mails so that they go to the junk folder as opposed to the primary inbox folder. In detecting spam, false positives are more detrimental than false negatives (precision) because they can result in important emails not being seen."
      ],
      "metadata": {
        "id": "N97LiG481UHC"
      }
    },
    {
      "cell_type": "markdown",
      "metadata": {
        "id": "7KMRBJ7zr9HD"
      },
      "source": [
        "### d) Recording the Experimental Design"
      ]
    },
    {
      "cell_type": "markdown",
      "source": [
        "*   Determine the main objectives\n",
        "*   Load and preview the dataset.\n",
        "*   Understand the data.\n",
        "*   Prepare the dataset - Identify missing values, and determine how deal with them, drop any unnecessary columns etc.\n",
        "*   Exploratory analysis\n",
        "*   Implement the solution through modelling.\n",
        "*   Challenge the solution.\n",
        "*   Conclusion and recommendations"
      ],
      "metadata": {
        "id": "Pm7izNn01WoG"
      }
    },
    {
      "cell_type": "markdown",
      "metadata": {
        "id": "zSGyg6kWsBUl"
      },
      "source": [
        "### e) Data Relevance"
      ]
    },
    {
      "cell_type": "markdown",
      "source": [
        "The dataset provided ([here](https://archive.ics.uci.edu/ml/datasets/Spambase)) is relevant to the research question. Most of the attributes indicate whether a particular word or character was frequently occuring in the e-mails that were considered spam or not.The run-length attributes measure the length of sequences of consecutive capital letters. These characteristics will aid in identifying spam email."
      ],
      "metadata": {
        "id": "bGSGTGGQ1Xdx"
      }
    },
    {
      "cell_type": "markdown",
      "metadata": {
        "id": "iUNbvIvnT7ep"
      },
      "source": [
        "## Reading the Data"
      ]
    },
    {
      "cell_type": "code",
      "source": [
        "#importing necessary libraries\n",
        "import numpy as np\n",
        "import pandas as pd\n",
        "import seaborn as sb\n",
        "import matplotlib.pyplot as plt\n",
        "from sklearn.model_selection import KFold\n",
        "from sklearn.model_selection import GridSearchCV\n",
        "from sklearn import metrics\n",
        "from sklearn.model_selection import train_test_split\n",
        "from sklearn.preprocessing import StandardScaler\n",
        "from sklearn.preprocessing import LabelEncoder\n",
        "from sklearn.naive_bayes import MultinomialNB\n",
        "from sklearn.naive_bayes import GaussianNB"
      ],
      "metadata": {
        "id": "-ddQvNLq7cDs"
      },
      "execution_count": 87,
      "outputs": []
    },
    {
      "cell_type": "code",
      "metadata": {
        "id": "XJn2KjW-WMlG"
      },
      "source": [
        "# Loading the Dataset\n",
        "# \n",
        "cols = np.arange(58)\n",
        "df = pd.read_csv('spambase.csv', names = cols)"
      ],
      "execution_count": 88,
      "outputs": []
    },
    {
      "cell_type": "markdown",
      "metadata": {
        "id": "OI3P3YnHUEBk"
      },
      "source": [
        "## Checking the Data"
      ]
    },
    {
      "cell_type": "code",
      "metadata": {
        "id": "YjSVNwgptHxY",
        "colab": {
          "base_uri": "https://localhost:8080/"
        },
        "outputId": "dcfcc402-b624-4c58-f625-873ad44fea96"
      },
      "source": [
        "# Determining the no. of records in our dataset\n",
        "#\n",
        "df.shape"
      ],
      "execution_count": 89,
      "outputs": [
        {
          "output_type": "execute_result",
          "data": {
            "text/plain": [
              "(4601, 58)"
            ]
          },
          "metadata": {},
          "execution_count": 89
        }
      ]
    },
    {
      "cell_type": "code",
      "metadata": {
        "id": "xHhTw5eKWr0n",
        "colab": {
          "base_uri": "https://localhost:8080/",
          "height": 300
        },
        "outputId": "1877eba3-f5a4-43cf-9620-dbbf3bd802c8"
      },
      "source": [
        "# Previewing the top of our dataset\n",
        "#\n",
        "df.head()"
      ],
      "execution_count": 90,
      "outputs": [
        {
          "output_type": "execute_result",
          "data": {
            "text/plain": [
              "     0     1     2    3     4     5     6     7     8     9   ...    48  \\\n",
              "0  0.00  0.64  0.64  0.0  0.32  0.00  0.00  0.00  0.00  0.00  ...  0.00   \n",
              "1  0.21  0.28  0.50  0.0  0.14  0.28  0.21  0.07  0.00  0.94  ...  0.00   \n",
              "2  0.06  0.00  0.71  0.0  1.23  0.19  0.19  0.12  0.64  0.25  ...  0.01   \n",
              "3  0.00  0.00  0.00  0.0  0.63  0.00  0.31  0.63  0.31  0.63  ...  0.00   \n",
              "4  0.00  0.00  0.00  0.0  0.63  0.00  0.31  0.63  0.31  0.63  ...  0.00   \n",
              "\n",
              "      49   50     51     52     53     54   55    56  57  \n",
              "0  0.000  0.0  0.778  0.000  0.000  3.756   61   278   1  \n",
              "1  0.132  0.0  0.372  0.180  0.048  5.114  101  1028   1  \n",
              "2  0.143  0.0  0.276  0.184  0.010  9.821  485  2259   1  \n",
              "3  0.137  0.0  0.137  0.000  0.000  3.537   40   191   1  \n",
              "4  0.135  0.0  0.135  0.000  0.000  3.537   40   191   1  \n",
              "\n",
              "[5 rows x 58 columns]"
            ],
            "text/html": [
              "\n",
              "  <div id=\"df-1e74e38c-4c6b-41d9-aabc-fdd6eb12d03d\">\n",
              "    <div class=\"colab-df-container\">\n",
              "      <div>\n",
              "<style scoped>\n",
              "    .dataframe tbody tr th:only-of-type {\n",
              "        vertical-align: middle;\n",
              "    }\n",
              "\n",
              "    .dataframe tbody tr th {\n",
              "        vertical-align: top;\n",
              "    }\n",
              "\n",
              "    .dataframe thead th {\n",
              "        text-align: right;\n",
              "    }\n",
              "</style>\n",
              "<table border=\"1\" class=\"dataframe\">\n",
              "  <thead>\n",
              "    <tr style=\"text-align: right;\">\n",
              "      <th></th>\n",
              "      <th>0</th>\n",
              "      <th>1</th>\n",
              "      <th>2</th>\n",
              "      <th>3</th>\n",
              "      <th>4</th>\n",
              "      <th>5</th>\n",
              "      <th>6</th>\n",
              "      <th>7</th>\n",
              "      <th>8</th>\n",
              "      <th>9</th>\n",
              "      <th>...</th>\n",
              "      <th>48</th>\n",
              "      <th>49</th>\n",
              "      <th>50</th>\n",
              "      <th>51</th>\n",
              "      <th>52</th>\n",
              "      <th>53</th>\n",
              "      <th>54</th>\n",
              "      <th>55</th>\n",
              "      <th>56</th>\n",
              "      <th>57</th>\n",
              "    </tr>\n",
              "  </thead>\n",
              "  <tbody>\n",
              "    <tr>\n",
              "      <th>0</th>\n",
              "      <td>0.00</td>\n",
              "      <td>0.64</td>\n",
              "      <td>0.64</td>\n",
              "      <td>0.0</td>\n",
              "      <td>0.32</td>\n",
              "      <td>0.00</td>\n",
              "      <td>0.00</td>\n",
              "      <td>0.00</td>\n",
              "      <td>0.00</td>\n",
              "      <td>0.00</td>\n",
              "      <td>...</td>\n",
              "      <td>0.00</td>\n",
              "      <td>0.000</td>\n",
              "      <td>0.0</td>\n",
              "      <td>0.778</td>\n",
              "      <td>0.000</td>\n",
              "      <td>0.000</td>\n",
              "      <td>3.756</td>\n",
              "      <td>61</td>\n",
              "      <td>278</td>\n",
              "      <td>1</td>\n",
              "    </tr>\n",
              "    <tr>\n",
              "      <th>1</th>\n",
              "      <td>0.21</td>\n",
              "      <td>0.28</td>\n",
              "      <td>0.50</td>\n",
              "      <td>0.0</td>\n",
              "      <td>0.14</td>\n",
              "      <td>0.28</td>\n",
              "      <td>0.21</td>\n",
              "      <td>0.07</td>\n",
              "      <td>0.00</td>\n",
              "      <td>0.94</td>\n",
              "      <td>...</td>\n",
              "      <td>0.00</td>\n",
              "      <td>0.132</td>\n",
              "      <td>0.0</td>\n",
              "      <td>0.372</td>\n",
              "      <td>0.180</td>\n",
              "      <td>0.048</td>\n",
              "      <td>5.114</td>\n",
              "      <td>101</td>\n",
              "      <td>1028</td>\n",
              "      <td>1</td>\n",
              "    </tr>\n",
              "    <tr>\n",
              "      <th>2</th>\n",
              "      <td>0.06</td>\n",
              "      <td>0.00</td>\n",
              "      <td>0.71</td>\n",
              "      <td>0.0</td>\n",
              "      <td>1.23</td>\n",
              "      <td>0.19</td>\n",
              "      <td>0.19</td>\n",
              "      <td>0.12</td>\n",
              "      <td>0.64</td>\n",
              "      <td>0.25</td>\n",
              "      <td>...</td>\n",
              "      <td>0.01</td>\n",
              "      <td>0.143</td>\n",
              "      <td>0.0</td>\n",
              "      <td>0.276</td>\n",
              "      <td>0.184</td>\n",
              "      <td>0.010</td>\n",
              "      <td>9.821</td>\n",
              "      <td>485</td>\n",
              "      <td>2259</td>\n",
              "      <td>1</td>\n",
              "    </tr>\n",
              "    <tr>\n",
              "      <th>3</th>\n",
              "      <td>0.00</td>\n",
              "      <td>0.00</td>\n",
              "      <td>0.00</td>\n",
              "      <td>0.0</td>\n",
              "      <td>0.63</td>\n",
              "      <td>0.00</td>\n",
              "      <td>0.31</td>\n",
              "      <td>0.63</td>\n",
              "      <td>0.31</td>\n",
              "      <td>0.63</td>\n",
              "      <td>...</td>\n",
              "      <td>0.00</td>\n",
              "      <td>0.137</td>\n",
              "      <td>0.0</td>\n",
              "      <td>0.137</td>\n",
              "      <td>0.000</td>\n",
              "      <td>0.000</td>\n",
              "      <td>3.537</td>\n",
              "      <td>40</td>\n",
              "      <td>191</td>\n",
              "      <td>1</td>\n",
              "    </tr>\n",
              "    <tr>\n",
              "      <th>4</th>\n",
              "      <td>0.00</td>\n",
              "      <td>0.00</td>\n",
              "      <td>0.00</td>\n",
              "      <td>0.0</td>\n",
              "      <td>0.63</td>\n",
              "      <td>0.00</td>\n",
              "      <td>0.31</td>\n",
              "      <td>0.63</td>\n",
              "      <td>0.31</td>\n",
              "      <td>0.63</td>\n",
              "      <td>...</td>\n",
              "      <td>0.00</td>\n",
              "      <td>0.135</td>\n",
              "      <td>0.0</td>\n",
              "      <td>0.135</td>\n",
              "      <td>0.000</td>\n",
              "      <td>0.000</td>\n",
              "      <td>3.537</td>\n",
              "      <td>40</td>\n",
              "      <td>191</td>\n",
              "      <td>1</td>\n",
              "    </tr>\n",
              "  </tbody>\n",
              "</table>\n",
              "<p>5 rows × 58 columns</p>\n",
              "</div>\n",
              "      <button class=\"colab-df-convert\" onclick=\"convertToInteractive('df-1e74e38c-4c6b-41d9-aabc-fdd6eb12d03d')\"\n",
              "              title=\"Convert this dataframe to an interactive table.\"\n",
              "              style=\"display:none;\">\n",
              "        \n",
              "  <svg xmlns=\"http://www.w3.org/2000/svg\" height=\"24px\"viewBox=\"0 0 24 24\"\n",
              "       width=\"24px\">\n",
              "    <path d=\"M0 0h24v24H0V0z\" fill=\"none\"/>\n",
              "    <path d=\"M18.56 5.44l.94 2.06.94-2.06 2.06-.94-2.06-.94-.94-2.06-.94 2.06-2.06.94zm-11 1L8.5 8.5l.94-2.06 2.06-.94-2.06-.94L8.5 2.5l-.94 2.06-2.06.94zm10 10l.94 2.06.94-2.06 2.06-.94-2.06-.94-.94-2.06-.94 2.06-2.06.94z\"/><path d=\"M17.41 7.96l-1.37-1.37c-.4-.4-.92-.59-1.43-.59-.52 0-1.04.2-1.43.59L10.3 9.45l-7.72 7.72c-.78.78-.78 2.05 0 2.83L4 21.41c.39.39.9.59 1.41.59.51 0 1.02-.2 1.41-.59l7.78-7.78 2.81-2.81c.8-.78.8-2.07 0-2.86zM5.41 20L4 18.59l7.72-7.72 1.47 1.35L5.41 20z\"/>\n",
              "  </svg>\n",
              "      </button>\n",
              "      \n",
              "  <style>\n",
              "    .colab-df-container {\n",
              "      display:flex;\n",
              "      flex-wrap:wrap;\n",
              "      gap: 12px;\n",
              "    }\n",
              "\n",
              "    .colab-df-convert {\n",
              "      background-color: #E8F0FE;\n",
              "      border: none;\n",
              "      border-radius: 50%;\n",
              "      cursor: pointer;\n",
              "      display: none;\n",
              "      fill: #1967D2;\n",
              "      height: 32px;\n",
              "      padding: 0 0 0 0;\n",
              "      width: 32px;\n",
              "    }\n",
              "\n",
              "    .colab-df-convert:hover {\n",
              "      background-color: #E2EBFA;\n",
              "      box-shadow: 0px 1px 2px rgba(60, 64, 67, 0.3), 0px 1px 3px 1px rgba(60, 64, 67, 0.15);\n",
              "      fill: #174EA6;\n",
              "    }\n",
              "\n",
              "    [theme=dark] .colab-df-convert {\n",
              "      background-color: #3B4455;\n",
              "      fill: #D2E3FC;\n",
              "    }\n",
              "\n",
              "    [theme=dark] .colab-df-convert:hover {\n",
              "      background-color: #434B5C;\n",
              "      box-shadow: 0px 1px 3px 1px rgba(0, 0, 0, 0.15);\n",
              "      filter: drop-shadow(0px 1px 2px rgba(0, 0, 0, 0.3));\n",
              "      fill: #FFFFFF;\n",
              "    }\n",
              "  </style>\n",
              "\n",
              "      <script>\n",
              "        const buttonEl =\n",
              "          document.querySelector('#df-1e74e38c-4c6b-41d9-aabc-fdd6eb12d03d button.colab-df-convert');\n",
              "        buttonEl.style.display =\n",
              "          google.colab.kernel.accessAllowed ? 'block' : 'none';\n",
              "\n",
              "        async function convertToInteractive(key) {\n",
              "          const element = document.querySelector('#df-1e74e38c-4c6b-41d9-aabc-fdd6eb12d03d');\n",
              "          const dataTable =\n",
              "            await google.colab.kernel.invokeFunction('convertToInteractive',\n",
              "                                                     [key], {});\n",
              "          if (!dataTable) return;\n",
              "\n",
              "          const docLinkHtml = 'Like what you see? Visit the ' +\n",
              "            '<a target=\"_blank\" href=https://colab.research.google.com/notebooks/data_table.ipynb>data table notebook</a>'\n",
              "            + ' to learn more about interactive tables.';\n",
              "          element.innerHTML = '';\n",
              "          dataTable['output_type'] = 'display_data';\n",
              "          await google.colab.output.renderOutput(dataTable, element);\n",
              "          const docLink = document.createElement('div');\n",
              "          docLink.innerHTML = docLinkHtml;\n",
              "          element.appendChild(docLink);\n",
              "        }\n",
              "      </script>\n",
              "    </div>\n",
              "  </div>\n",
              "  "
            ]
          },
          "metadata": {},
          "execution_count": 90
        }
      ]
    },
    {
      "cell_type": "code",
      "metadata": {
        "id": "e9AzGcZFrIIr",
        "colab": {
          "base_uri": "https://localhost:8080/",
          "height": 280
        },
        "outputId": "00dd71a8-4c46-4e46-b329-fccb3b13da11"
      },
      "source": [
        "# Previewing the bottom of our dataset\n",
        "# \n",
        "df.tail()"
      ],
      "execution_count": 91,
      "outputs": [
        {
          "output_type": "execute_result",
          "data": {
            "text/plain": [
              "        0    1     2    3     4     5    6    7    8    9   ...     48     49  \\\n",
              "4596  0.31  0.0  0.62  0.0  0.00  0.31  0.0  0.0  0.0  0.0  ...  0.000  0.232   \n",
              "4597  0.00  0.0  0.00  0.0  0.00  0.00  0.0  0.0  0.0  0.0  ...  0.000  0.000   \n",
              "4598  0.30  0.0  0.30  0.0  0.00  0.00  0.0  0.0  0.0  0.0  ...  0.102  0.718   \n",
              "4599  0.96  0.0  0.00  0.0  0.32  0.00  0.0  0.0  0.0  0.0  ...  0.000  0.057   \n",
              "4600  0.00  0.0  0.65  0.0  0.00  0.00  0.0  0.0  0.0  0.0  ...  0.000  0.000   \n",
              "\n",
              "       50     51   52   53     54  55   56  57  \n",
              "4596  0.0  0.000  0.0  0.0  1.142   3   88   0  \n",
              "4597  0.0  0.353  0.0  0.0  1.555   4   14   0  \n",
              "4598  0.0  0.000  0.0  0.0  1.404   6  118   0  \n",
              "4599  0.0  0.000  0.0  0.0  1.147   5   78   0  \n",
              "4600  0.0  0.125  0.0  0.0  1.250   5   40   0  \n",
              "\n",
              "[5 rows x 58 columns]"
            ],
            "text/html": [
              "\n",
              "  <div id=\"df-65a0e5a4-a3eb-4c56-8dd1-4573fe6ae676\">\n",
              "    <div class=\"colab-df-container\">\n",
              "      <div>\n",
              "<style scoped>\n",
              "    .dataframe tbody tr th:only-of-type {\n",
              "        vertical-align: middle;\n",
              "    }\n",
              "\n",
              "    .dataframe tbody tr th {\n",
              "        vertical-align: top;\n",
              "    }\n",
              "\n",
              "    .dataframe thead th {\n",
              "        text-align: right;\n",
              "    }\n",
              "</style>\n",
              "<table border=\"1\" class=\"dataframe\">\n",
              "  <thead>\n",
              "    <tr style=\"text-align: right;\">\n",
              "      <th></th>\n",
              "      <th>0</th>\n",
              "      <th>1</th>\n",
              "      <th>2</th>\n",
              "      <th>3</th>\n",
              "      <th>4</th>\n",
              "      <th>5</th>\n",
              "      <th>6</th>\n",
              "      <th>7</th>\n",
              "      <th>8</th>\n",
              "      <th>9</th>\n",
              "      <th>...</th>\n",
              "      <th>48</th>\n",
              "      <th>49</th>\n",
              "      <th>50</th>\n",
              "      <th>51</th>\n",
              "      <th>52</th>\n",
              "      <th>53</th>\n",
              "      <th>54</th>\n",
              "      <th>55</th>\n",
              "      <th>56</th>\n",
              "      <th>57</th>\n",
              "    </tr>\n",
              "  </thead>\n",
              "  <tbody>\n",
              "    <tr>\n",
              "      <th>4596</th>\n",
              "      <td>0.31</td>\n",
              "      <td>0.0</td>\n",
              "      <td>0.62</td>\n",
              "      <td>0.0</td>\n",
              "      <td>0.00</td>\n",
              "      <td>0.31</td>\n",
              "      <td>0.0</td>\n",
              "      <td>0.0</td>\n",
              "      <td>0.0</td>\n",
              "      <td>0.0</td>\n",
              "      <td>...</td>\n",
              "      <td>0.000</td>\n",
              "      <td>0.232</td>\n",
              "      <td>0.0</td>\n",
              "      <td>0.000</td>\n",
              "      <td>0.0</td>\n",
              "      <td>0.0</td>\n",
              "      <td>1.142</td>\n",
              "      <td>3</td>\n",
              "      <td>88</td>\n",
              "      <td>0</td>\n",
              "    </tr>\n",
              "    <tr>\n",
              "      <th>4597</th>\n",
              "      <td>0.00</td>\n",
              "      <td>0.0</td>\n",
              "      <td>0.00</td>\n",
              "      <td>0.0</td>\n",
              "      <td>0.00</td>\n",
              "      <td>0.00</td>\n",
              "      <td>0.0</td>\n",
              "      <td>0.0</td>\n",
              "      <td>0.0</td>\n",
              "      <td>0.0</td>\n",
              "      <td>...</td>\n",
              "      <td>0.000</td>\n",
              "      <td>0.000</td>\n",
              "      <td>0.0</td>\n",
              "      <td>0.353</td>\n",
              "      <td>0.0</td>\n",
              "      <td>0.0</td>\n",
              "      <td>1.555</td>\n",
              "      <td>4</td>\n",
              "      <td>14</td>\n",
              "      <td>0</td>\n",
              "    </tr>\n",
              "    <tr>\n",
              "      <th>4598</th>\n",
              "      <td>0.30</td>\n",
              "      <td>0.0</td>\n",
              "      <td>0.30</td>\n",
              "      <td>0.0</td>\n",
              "      <td>0.00</td>\n",
              "      <td>0.00</td>\n",
              "      <td>0.0</td>\n",
              "      <td>0.0</td>\n",
              "      <td>0.0</td>\n",
              "      <td>0.0</td>\n",
              "      <td>...</td>\n",
              "      <td>0.102</td>\n",
              "      <td>0.718</td>\n",
              "      <td>0.0</td>\n",
              "      <td>0.000</td>\n",
              "      <td>0.0</td>\n",
              "      <td>0.0</td>\n",
              "      <td>1.404</td>\n",
              "      <td>6</td>\n",
              "      <td>118</td>\n",
              "      <td>0</td>\n",
              "    </tr>\n",
              "    <tr>\n",
              "      <th>4599</th>\n",
              "      <td>0.96</td>\n",
              "      <td>0.0</td>\n",
              "      <td>0.00</td>\n",
              "      <td>0.0</td>\n",
              "      <td>0.32</td>\n",
              "      <td>0.00</td>\n",
              "      <td>0.0</td>\n",
              "      <td>0.0</td>\n",
              "      <td>0.0</td>\n",
              "      <td>0.0</td>\n",
              "      <td>...</td>\n",
              "      <td>0.000</td>\n",
              "      <td>0.057</td>\n",
              "      <td>0.0</td>\n",
              "      <td>0.000</td>\n",
              "      <td>0.0</td>\n",
              "      <td>0.0</td>\n",
              "      <td>1.147</td>\n",
              "      <td>5</td>\n",
              "      <td>78</td>\n",
              "      <td>0</td>\n",
              "    </tr>\n",
              "    <tr>\n",
              "      <th>4600</th>\n",
              "      <td>0.00</td>\n",
              "      <td>0.0</td>\n",
              "      <td>0.65</td>\n",
              "      <td>0.0</td>\n",
              "      <td>0.00</td>\n",
              "      <td>0.00</td>\n",
              "      <td>0.0</td>\n",
              "      <td>0.0</td>\n",
              "      <td>0.0</td>\n",
              "      <td>0.0</td>\n",
              "      <td>...</td>\n",
              "      <td>0.000</td>\n",
              "      <td>0.000</td>\n",
              "      <td>0.0</td>\n",
              "      <td>0.125</td>\n",
              "      <td>0.0</td>\n",
              "      <td>0.0</td>\n",
              "      <td>1.250</td>\n",
              "      <td>5</td>\n",
              "      <td>40</td>\n",
              "      <td>0</td>\n",
              "    </tr>\n",
              "  </tbody>\n",
              "</table>\n",
              "<p>5 rows × 58 columns</p>\n",
              "</div>\n",
              "      <button class=\"colab-df-convert\" onclick=\"convertToInteractive('df-65a0e5a4-a3eb-4c56-8dd1-4573fe6ae676')\"\n",
              "              title=\"Convert this dataframe to an interactive table.\"\n",
              "              style=\"display:none;\">\n",
              "        \n",
              "  <svg xmlns=\"http://www.w3.org/2000/svg\" height=\"24px\"viewBox=\"0 0 24 24\"\n",
              "       width=\"24px\">\n",
              "    <path d=\"M0 0h24v24H0V0z\" fill=\"none\"/>\n",
              "    <path d=\"M18.56 5.44l.94 2.06.94-2.06 2.06-.94-2.06-.94-.94-2.06-.94 2.06-2.06.94zm-11 1L8.5 8.5l.94-2.06 2.06-.94-2.06-.94L8.5 2.5l-.94 2.06-2.06.94zm10 10l.94 2.06.94-2.06 2.06-.94-2.06-.94-.94-2.06-.94 2.06-2.06.94z\"/><path d=\"M17.41 7.96l-1.37-1.37c-.4-.4-.92-.59-1.43-.59-.52 0-1.04.2-1.43.59L10.3 9.45l-7.72 7.72c-.78.78-.78 2.05 0 2.83L4 21.41c.39.39.9.59 1.41.59.51 0 1.02-.2 1.41-.59l7.78-7.78 2.81-2.81c.8-.78.8-2.07 0-2.86zM5.41 20L4 18.59l7.72-7.72 1.47 1.35L5.41 20z\"/>\n",
              "  </svg>\n",
              "      </button>\n",
              "      \n",
              "  <style>\n",
              "    .colab-df-container {\n",
              "      display:flex;\n",
              "      flex-wrap:wrap;\n",
              "      gap: 12px;\n",
              "    }\n",
              "\n",
              "    .colab-df-convert {\n",
              "      background-color: #E8F0FE;\n",
              "      border: none;\n",
              "      border-radius: 50%;\n",
              "      cursor: pointer;\n",
              "      display: none;\n",
              "      fill: #1967D2;\n",
              "      height: 32px;\n",
              "      padding: 0 0 0 0;\n",
              "      width: 32px;\n",
              "    }\n",
              "\n",
              "    .colab-df-convert:hover {\n",
              "      background-color: #E2EBFA;\n",
              "      box-shadow: 0px 1px 2px rgba(60, 64, 67, 0.3), 0px 1px 3px 1px rgba(60, 64, 67, 0.15);\n",
              "      fill: #174EA6;\n",
              "    }\n",
              "\n",
              "    [theme=dark] .colab-df-convert {\n",
              "      background-color: #3B4455;\n",
              "      fill: #D2E3FC;\n",
              "    }\n",
              "\n",
              "    [theme=dark] .colab-df-convert:hover {\n",
              "      background-color: #434B5C;\n",
              "      box-shadow: 0px 1px 3px 1px rgba(0, 0, 0, 0.15);\n",
              "      filter: drop-shadow(0px 1px 2px rgba(0, 0, 0, 0.3));\n",
              "      fill: #FFFFFF;\n",
              "    }\n",
              "  </style>\n",
              "\n",
              "      <script>\n",
              "        const buttonEl =\n",
              "          document.querySelector('#df-65a0e5a4-a3eb-4c56-8dd1-4573fe6ae676 button.colab-df-convert');\n",
              "        buttonEl.style.display =\n",
              "          google.colab.kernel.accessAllowed ? 'block' : 'none';\n",
              "\n",
              "        async function convertToInteractive(key) {\n",
              "          const element = document.querySelector('#df-65a0e5a4-a3eb-4c56-8dd1-4573fe6ae676');\n",
              "          const dataTable =\n",
              "            await google.colab.kernel.invokeFunction('convertToInteractive',\n",
              "                                                     [key], {});\n",
              "          if (!dataTable) return;\n",
              "\n",
              "          const docLinkHtml = 'Like what you see? Visit the ' +\n",
              "            '<a target=\"_blank\" href=https://colab.research.google.com/notebooks/data_table.ipynb>data table notebook</a>'\n",
              "            + ' to learn more about interactive tables.';\n",
              "          element.innerHTML = '';\n",
              "          dataTable['output_type'] = 'display_data';\n",
              "          await google.colab.output.renderOutput(dataTable, element);\n",
              "          const docLink = document.createElement('div');\n",
              "          docLink.innerHTML = docLinkHtml;\n",
              "          element.appendChild(docLink);\n",
              "        }\n",
              "      </script>\n",
              "    </div>\n",
              "  </div>\n",
              "  "
            ]
          },
          "metadata": {},
          "execution_count": 91
        }
      ]
    },
    {
      "cell_type": "code",
      "metadata": {
        "id": "n8-dW4sQWzbc",
        "colab": {
          "base_uri": "https://localhost:8080/"
        },
        "outputId": "aaf4b0a0-d85a-41e6-e2bc-f90f6c9457af"
      },
      "source": [
        "# Checking datatype of each column\n",
        "#\n",
        "df.info()"
      ],
      "execution_count": 92,
      "outputs": [
        {
          "output_type": "stream",
          "name": "stdout",
          "text": [
            "<class 'pandas.core.frame.DataFrame'>\n",
            "RangeIndex: 4601 entries, 0 to 4600\n",
            "Data columns (total 58 columns):\n",
            " #   Column  Non-Null Count  Dtype  \n",
            "---  ------  --------------  -----  \n",
            " 0   0       4601 non-null   float64\n",
            " 1   1       4601 non-null   float64\n",
            " 2   2       4601 non-null   float64\n",
            " 3   3       4601 non-null   float64\n",
            " 4   4       4601 non-null   float64\n",
            " 5   5       4601 non-null   float64\n",
            " 6   6       4601 non-null   float64\n",
            " 7   7       4601 non-null   float64\n",
            " 8   8       4601 non-null   float64\n",
            " 9   9       4601 non-null   float64\n",
            " 10  10      4601 non-null   float64\n",
            " 11  11      4601 non-null   float64\n",
            " 12  12      4601 non-null   float64\n",
            " 13  13      4601 non-null   float64\n",
            " 14  14      4601 non-null   float64\n",
            " 15  15      4601 non-null   float64\n",
            " 16  16      4601 non-null   float64\n",
            " 17  17      4601 non-null   float64\n",
            " 18  18      4601 non-null   float64\n",
            " 19  19      4601 non-null   float64\n",
            " 20  20      4601 non-null   float64\n",
            " 21  21      4601 non-null   float64\n",
            " 22  22      4601 non-null   float64\n",
            " 23  23      4601 non-null   float64\n",
            " 24  24      4601 non-null   float64\n",
            " 25  25      4601 non-null   float64\n",
            " 26  26      4601 non-null   float64\n",
            " 27  27      4601 non-null   float64\n",
            " 28  28      4601 non-null   float64\n",
            " 29  29      4601 non-null   float64\n",
            " 30  30      4601 non-null   float64\n",
            " 31  31      4601 non-null   float64\n",
            " 32  32      4601 non-null   float64\n",
            " 33  33      4601 non-null   float64\n",
            " 34  34      4601 non-null   float64\n",
            " 35  35      4601 non-null   float64\n",
            " 36  36      4601 non-null   float64\n",
            " 37  37      4601 non-null   float64\n",
            " 38  38      4601 non-null   float64\n",
            " 39  39      4601 non-null   float64\n",
            " 40  40      4601 non-null   float64\n",
            " 41  41      4601 non-null   float64\n",
            " 42  42      4601 non-null   float64\n",
            " 43  43      4601 non-null   float64\n",
            " 44  44      4601 non-null   float64\n",
            " 45  45      4601 non-null   float64\n",
            " 46  46      4601 non-null   float64\n",
            " 47  47      4601 non-null   float64\n",
            " 48  48      4601 non-null   float64\n",
            " 49  49      4601 non-null   float64\n",
            " 50  50      4601 non-null   float64\n",
            " 51  51      4601 non-null   float64\n",
            " 52  52      4601 non-null   float64\n",
            " 53  53      4601 non-null   float64\n",
            " 54  54      4601 non-null   float64\n",
            " 55  55      4601 non-null   int64  \n",
            " 56  56      4601 non-null   int64  \n",
            " 57  57      4601 non-null   int64  \n",
            "dtypes: float64(55), int64(3)\n",
            "memory usage: 2.0 MB\n"
          ]
        }
      ]
    },
    {
      "cell_type": "markdown",
      "metadata": {
        "id": "FlBMxEDBUc9B"
      },
      "source": [
        "## Tidying the Dataset"
      ]
    },
    {
      "cell_type": "code",
      "source": [
        "# dropping unnecessary columns\n",
        "# all columns are necessary because they represent imporant words and characteristics\n",
        "#that will help in identifying spam"
      ],
      "metadata": {
        "id": "0eY1ent1e19e"
      },
      "execution_count": 93,
      "outputs": []
    },
    {
      "cell_type": "code",
      "source": [
        "#checking for missing values\n",
        "df.isnull().sum()\n",
        "#no null values"
      ],
      "metadata": {
        "colab": {
          "base_uri": "https://localhost:8080/"
        },
        "id": "FJWMRDhrqCgi",
        "outputId": "f7ce8811-f211-465a-ec18-4f43f48052b3"
      },
      "execution_count": 94,
      "outputs": [
        {
          "output_type": "execute_result",
          "data": {
            "text/plain": [
              "0     0\n",
              "1     0\n",
              "2     0\n",
              "3     0\n",
              "4     0\n",
              "5     0\n",
              "6     0\n",
              "7     0\n",
              "8     0\n",
              "9     0\n",
              "10    0\n",
              "11    0\n",
              "12    0\n",
              "13    0\n",
              "14    0\n",
              "15    0\n",
              "16    0\n",
              "17    0\n",
              "18    0\n",
              "19    0\n",
              "20    0\n",
              "21    0\n",
              "22    0\n",
              "23    0\n",
              "24    0\n",
              "25    0\n",
              "26    0\n",
              "27    0\n",
              "28    0\n",
              "29    0\n",
              "30    0\n",
              "31    0\n",
              "32    0\n",
              "33    0\n",
              "34    0\n",
              "35    0\n",
              "36    0\n",
              "37    0\n",
              "38    0\n",
              "39    0\n",
              "40    0\n",
              "41    0\n",
              "42    0\n",
              "43    0\n",
              "44    0\n",
              "45    0\n",
              "46    0\n",
              "47    0\n",
              "48    0\n",
              "49    0\n",
              "50    0\n",
              "51    0\n",
              "52    0\n",
              "53    0\n",
              "54    0\n",
              "55    0\n",
              "56    0\n",
              "57    0\n",
              "dtype: int64"
            ]
          },
          "metadata": {},
          "execution_count": 94
        }
      ]
    },
    {
      "cell_type": "code",
      "source": [
        "#58 columns:\n",
        "#Attribute columns:\n",
        "# 48 real attributes of type word_freq_WORD = percentage of words in the e-mail\n",
        "#  that match WORD, i.e. 100 * (number of times the WORD appears in the e-mail) / total number of words in e-mail. A \"word\" in this case is any string of alphanumeric characters bounded by non-alphanumeric characters or end-of-string.\n",
        "\n",
        "# 6 real attributes of type char_freq_CHAR] = percentage of characters in the e-mail \n",
        "# that match CHAR, i.e. 100 * (number of CHAR occurences) / total characters in e-mail\n",
        "\n",
        "# 1 real attribute of type capital_run_length_average = average length of uninterrupted\n",
        "#  sequences of capital letters\n",
        "\n",
        "# 1 integer attribute of type capital_run_length_longest = length of longest\n",
        "#  uninterrupted sequence of capital letters\n",
        "\n",
        "# 1 integer attribute of type capital_run_length_total = sum of length \n",
        "# of uninterrupted sequences of capital letters = total number of capital letters in the e-mail\n",
        "\n",
        "#Target column\n",
        "# 1 nominal {0,1} class attribute of type spam\n",
        "# = denotes whether the e-mail was considered spam (1) or not (0), i.e. unsolicited commercial e-mail.\n",
        "\n",
        "\n"
      ],
      "metadata": {
        "id": "CA9qQNRciZZm"
      },
      "execution_count": 95,
      "outputs": []
    },
    {
      "cell_type": "code",
      "source": [
        "#checking for duplicates\n",
        "df.duplicated().sum()\n",
        "#wont drop duplicates. It is possible for different emails to have the same general characteristics above"
      ],
      "metadata": {
        "id": "llDasLcGKzdV",
        "colab": {
          "base_uri": "https://localhost:8080/"
        },
        "outputId": "70981d83-be4a-4d33-8c84-28cc644d87e1"
      },
      "execution_count": 96,
      "outputs": [
        {
          "output_type": "execute_result",
          "data": {
            "text/plain": [
              "391"
            ]
          },
          "metadata": {},
          "execution_count": 96
        }
      ]
    },
    {
      "cell_type": "markdown",
      "source": [
        "## Univariate Analysis"
      ],
      "metadata": {
        "id": "ANWx9eYgN1UW"
      }
    },
    {
      "cell_type": "code",
      "source": [
        "#Attribute columns:\n",
        "# 48 real attributes of type word_freq_WORD = percentage of words in the e-mail\n",
        "#  that match WORD, i.e. 100 * (number of times the WORD appears in the e-mail) / total number of words in e-mail. A \"word\" in this case is any string of alphanumeric characters bounded by non-alphanumeric characters or end-of-string.\n",
        "\n",
        "# 6 real attributes of type char_freq_CHAR] = percentage of characters in the e-mail \n",
        "# that match CHAR, i.e. 100 * (number of CHAR occurences) / total characters in e-mail\n",
        "\n",
        "# 1 real attribute of type capital_run_length_average = average length of uninterrupted\n",
        "#  sequences of capital letters\n",
        "\n",
        "# 1 integer attribute of type capital_run_length_longest = length of longest\n",
        "#  uninterrupted sequence of capital letters\n",
        "\n",
        "# 1 integer attribute of type capital_run_length_total = sum of length \n",
        "# of uninterrupted sequences of capital letters = total number of capital letters in the e-mail\n"
      ],
      "metadata": {
        "id": "rJXvuPUROMaT"
      },
      "execution_count": 97,
      "outputs": []
    },
    {
      "cell_type": "code",
      "source": [
        "for col in df.columns[0:57]:\n",
        "  print(df[col].describe())\n",
        "  print('**************************')"
      ],
      "metadata": {
        "colab": {
          "base_uri": "https://localhost:8080/"
        },
        "id": "pJ3HBQnZN445",
        "outputId": "91402370-aa55-4b4d-8c9f-ec5e9111740a"
      },
      "execution_count": 98,
      "outputs": [
        {
          "output_type": "stream",
          "name": "stdout",
          "text": [
            "count    4601.000000\n",
            "mean        0.104553\n",
            "std         0.305358\n",
            "min         0.000000\n",
            "25%         0.000000\n",
            "50%         0.000000\n",
            "75%         0.000000\n",
            "max         4.540000\n",
            "Name: 0, dtype: float64\n",
            "**************************\n",
            "count    4601.000000\n",
            "mean        0.213015\n",
            "std         1.290575\n",
            "min         0.000000\n",
            "25%         0.000000\n",
            "50%         0.000000\n",
            "75%         0.000000\n",
            "max        14.280000\n",
            "Name: 1, dtype: float64\n",
            "**************************\n",
            "count    4601.000000\n",
            "mean        0.280656\n",
            "std         0.504143\n",
            "min         0.000000\n",
            "25%         0.000000\n",
            "50%         0.000000\n",
            "75%         0.420000\n",
            "max         5.100000\n",
            "Name: 2, dtype: float64\n",
            "**************************\n",
            "count    4601.000000\n",
            "mean        0.065425\n",
            "std         1.395151\n",
            "min         0.000000\n",
            "25%         0.000000\n",
            "50%         0.000000\n",
            "75%         0.000000\n",
            "max        42.810000\n",
            "Name: 3, dtype: float64\n",
            "**************************\n",
            "count    4601.000000\n",
            "mean        0.312223\n",
            "std         0.672513\n",
            "min         0.000000\n",
            "25%         0.000000\n",
            "50%         0.000000\n",
            "75%         0.380000\n",
            "max        10.000000\n",
            "Name: 4, dtype: float64\n",
            "**************************\n",
            "count    4601.000000\n",
            "mean        0.095901\n",
            "std         0.273824\n",
            "min         0.000000\n",
            "25%         0.000000\n",
            "50%         0.000000\n",
            "75%         0.000000\n",
            "max         5.880000\n",
            "Name: 5, dtype: float64\n",
            "**************************\n",
            "count    4601.000000\n",
            "mean        0.114208\n",
            "std         0.391441\n",
            "min         0.000000\n",
            "25%         0.000000\n",
            "50%         0.000000\n",
            "75%         0.000000\n",
            "max         7.270000\n",
            "Name: 6, dtype: float64\n",
            "**************************\n",
            "count    4601.000000\n",
            "mean        0.105295\n",
            "std         0.401071\n",
            "min         0.000000\n",
            "25%         0.000000\n",
            "50%         0.000000\n",
            "75%         0.000000\n",
            "max        11.110000\n",
            "Name: 7, dtype: float64\n",
            "**************************\n",
            "count    4601.000000\n",
            "mean        0.090067\n",
            "std         0.278616\n",
            "min         0.000000\n",
            "25%         0.000000\n",
            "50%         0.000000\n",
            "75%         0.000000\n",
            "max         5.260000\n",
            "Name: 8, dtype: float64\n",
            "**************************\n",
            "count    4601.000000\n",
            "mean        0.239413\n",
            "std         0.644755\n",
            "min         0.000000\n",
            "25%         0.000000\n",
            "50%         0.000000\n",
            "75%         0.160000\n",
            "max        18.180000\n",
            "Name: 9, dtype: float64\n",
            "**************************\n",
            "count    4601.000000\n",
            "mean        0.059824\n",
            "std         0.201545\n",
            "min         0.000000\n",
            "25%         0.000000\n",
            "50%         0.000000\n",
            "75%         0.000000\n",
            "max         2.610000\n",
            "Name: 10, dtype: float64\n",
            "**************************\n",
            "count    4601.000000\n",
            "mean        0.541702\n",
            "std         0.861698\n",
            "min         0.000000\n",
            "25%         0.000000\n",
            "50%         0.100000\n",
            "75%         0.800000\n",
            "max         9.670000\n",
            "Name: 11, dtype: float64\n",
            "**************************\n",
            "count    4601.000000\n",
            "mean        0.093930\n",
            "std         0.301036\n",
            "min         0.000000\n",
            "25%         0.000000\n",
            "50%         0.000000\n",
            "75%         0.000000\n",
            "max         5.550000\n",
            "Name: 12, dtype: float64\n",
            "**************************\n",
            "count    4601.000000\n",
            "mean        0.058626\n",
            "std         0.335184\n",
            "min         0.000000\n",
            "25%         0.000000\n",
            "50%         0.000000\n",
            "75%         0.000000\n",
            "max        10.000000\n",
            "Name: 13, dtype: float64\n",
            "**************************\n",
            "count    4601.000000\n",
            "mean        0.049205\n",
            "std         0.258843\n",
            "min         0.000000\n",
            "25%         0.000000\n",
            "50%         0.000000\n",
            "75%         0.000000\n",
            "max         4.410000\n",
            "Name: 14, dtype: float64\n",
            "**************************\n",
            "count    4601.000000\n",
            "mean        0.248848\n",
            "std         0.825792\n",
            "min         0.000000\n",
            "25%         0.000000\n",
            "50%         0.000000\n",
            "75%         0.100000\n",
            "max        20.000000\n",
            "Name: 15, dtype: float64\n",
            "**************************\n",
            "count    4601.000000\n",
            "mean        0.142586\n",
            "std         0.444055\n",
            "min         0.000000\n",
            "25%         0.000000\n",
            "50%         0.000000\n",
            "75%         0.000000\n",
            "max         7.140000\n",
            "Name: 16, dtype: float64\n",
            "**************************\n",
            "count    4601.000000\n",
            "mean        0.184745\n",
            "std         0.531122\n",
            "min         0.000000\n",
            "25%         0.000000\n",
            "50%         0.000000\n",
            "75%         0.000000\n",
            "max         9.090000\n",
            "Name: 17, dtype: float64\n",
            "**************************\n",
            "count    4601.000000\n",
            "mean        1.662100\n",
            "std         1.775481\n",
            "min         0.000000\n",
            "25%         0.000000\n",
            "50%         1.310000\n",
            "75%         2.640000\n",
            "max        18.750000\n",
            "Name: 18, dtype: float64\n",
            "**************************\n",
            "count    4601.000000\n",
            "mean        0.085577\n",
            "std         0.509767\n",
            "min         0.000000\n",
            "25%         0.000000\n",
            "50%         0.000000\n",
            "75%         0.000000\n",
            "max        18.180000\n",
            "Name: 19, dtype: float64\n",
            "**************************\n",
            "count    4601.000000\n",
            "mean        0.809761\n",
            "std         1.200810\n",
            "min         0.000000\n",
            "25%         0.000000\n",
            "50%         0.220000\n",
            "75%         1.270000\n",
            "max        11.110000\n",
            "Name: 20, dtype: float64\n",
            "**************************\n",
            "count    4601.000000\n",
            "mean        0.121202\n",
            "std         1.025756\n",
            "min         0.000000\n",
            "25%         0.000000\n",
            "50%         0.000000\n",
            "75%         0.000000\n",
            "max        17.100000\n",
            "Name: 21, dtype: float64\n",
            "**************************\n",
            "count    4601.000000\n",
            "mean        0.101645\n",
            "std         0.350286\n",
            "min         0.000000\n",
            "25%         0.000000\n",
            "50%         0.000000\n",
            "75%         0.000000\n",
            "max         5.450000\n",
            "Name: 22, dtype: float64\n",
            "**************************\n",
            "count    4601.000000\n",
            "mean        0.094269\n",
            "std         0.442636\n",
            "min         0.000000\n",
            "25%         0.000000\n",
            "50%         0.000000\n",
            "75%         0.000000\n",
            "max        12.500000\n",
            "Name: 23, dtype: float64\n",
            "**************************\n",
            "count    4601.000000\n",
            "mean        0.549504\n",
            "std         1.671349\n",
            "min         0.000000\n",
            "25%         0.000000\n",
            "50%         0.000000\n",
            "75%         0.000000\n",
            "max        20.830000\n",
            "Name: 24, dtype: float64\n",
            "**************************\n",
            "count    4601.000000\n",
            "mean        0.265384\n",
            "std         0.886955\n",
            "min         0.000000\n",
            "25%         0.000000\n",
            "50%         0.000000\n",
            "75%         0.000000\n",
            "max        16.660000\n",
            "Name: 25, dtype: float64\n",
            "**************************\n",
            "count    4601.000000\n",
            "mean        0.767305\n",
            "std         3.367292\n",
            "min         0.000000\n",
            "25%         0.000000\n",
            "50%         0.000000\n",
            "75%         0.000000\n",
            "max        33.330000\n",
            "Name: 26, dtype: float64\n",
            "**************************\n",
            "count    4601.000000\n",
            "mean        0.124845\n",
            "std         0.538576\n",
            "min         0.000000\n",
            "25%         0.000000\n",
            "50%         0.000000\n",
            "75%         0.000000\n",
            "max         9.090000\n",
            "Name: 27, dtype: float64\n",
            "**************************\n",
            "count    4601.000000\n",
            "mean        0.098915\n",
            "std         0.593327\n",
            "min         0.000000\n",
            "25%         0.000000\n",
            "50%         0.000000\n",
            "75%         0.000000\n",
            "max        14.280000\n",
            "Name: 28, dtype: float64\n",
            "**************************\n",
            "count    4601.000000\n",
            "mean        0.102852\n",
            "std         0.456682\n",
            "min         0.000000\n",
            "25%         0.000000\n",
            "50%         0.000000\n",
            "75%         0.000000\n",
            "max         5.880000\n",
            "Name: 29, dtype: float64\n",
            "**************************\n",
            "count    4601.000000\n",
            "mean        0.064753\n",
            "std         0.403393\n",
            "min         0.000000\n",
            "25%         0.000000\n",
            "50%         0.000000\n",
            "75%         0.000000\n",
            "max        12.500000\n",
            "Name: 30, dtype: float64\n",
            "**************************\n",
            "count    4601.000000\n",
            "mean        0.047048\n",
            "std         0.328559\n",
            "min         0.000000\n",
            "25%         0.000000\n",
            "50%         0.000000\n",
            "75%         0.000000\n",
            "max         4.760000\n",
            "Name: 31, dtype: float64\n",
            "**************************\n",
            "count    4601.000000\n",
            "mean        0.097229\n",
            "std         0.555907\n",
            "min         0.000000\n",
            "25%         0.000000\n",
            "50%         0.000000\n",
            "75%         0.000000\n",
            "max        18.180000\n",
            "Name: 32, dtype: float64\n",
            "**************************\n",
            "count    4601.000000\n",
            "mean        0.047835\n",
            "std         0.329445\n",
            "min         0.000000\n",
            "25%         0.000000\n",
            "50%         0.000000\n",
            "75%         0.000000\n",
            "max         4.760000\n",
            "Name: 33, dtype: float64\n",
            "**************************\n",
            "count    4601.000000\n",
            "mean        0.105412\n",
            "std         0.532260\n",
            "min         0.000000\n",
            "25%         0.000000\n",
            "50%         0.000000\n",
            "75%         0.000000\n",
            "max        20.000000\n",
            "Name: 34, dtype: float64\n",
            "**************************\n",
            "count    4601.000000\n",
            "mean        0.097477\n",
            "std         0.402623\n",
            "min         0.000000\n",
            "25%         0.000000\n",
            "50%         0.000000\n",
            "75%         0.000000\n",
            "max         7.690000\n",
            "Name: 35, dtype: float64\n",
            "**************************\n",
            "count    4601.000000\n",
            "mean        0.136953\n",
            "std         0.423451\n",
            "min         0.000000\n",
            "25%         0.000000\n",
            "50%         0.000000\n",
            "75%         0.000000\n",
            "max         6.890000\n",
            "Name: 36, dtype: float64\n",
            "**************************\n",
            "count    4601.000000\n",
            "mean        0.013201\n",
            "std         0.220651\n",
            "min         0.000000\n",
            "25%         0.000000\n",
            "50%         0.000000\n",
            "75%         0.000000\n",
            "max         8.330000\n",
            "Name: 37, dtype: float64\n",
            "**************************\n",
            "count    4601.000000\n",
            "mean        0.078629\n",
            "std         0.434672\n",
            "min         0.000000\n",
            "25%         0.000000\n",
            "50%         0.000000\n",
            "75%         0.000000\n",
            "max        11.110000\n",
            "Name: 38, dtype: float64\n",
            "**************************\n",
            "count    4601.000000\n",
            "mean        0.064834\n",
            "std         0.349916\n",
            "min         0.000000\n",
            "25%         0.000000\n",
            "50%         0.000000\n",
            "75%         0.000000\n",
            "max         4.760000\n",
            "Name: 39, dtype: float64\n",
            "**************************\n",
            "count    4601.000000\n",
            "mean        0.043667\n",
            "std         0.361205\n",
            "min         0.000000\n",
            "25%         0.000000\n",
            "50%         0.000000\n",
            "75%         0.000000\n",
            "max         7.140000\n",
            "Name: 40, dtype: float64\n",
            "**************************\n",
            "count    4601.000000\n",
            "mean        0.132339\n",
            "std         0.766819\n",
            "min         0.000000\n",
            "25%         0.000000\n",
            "50%         0.000000\n",
            "75%         0.000000\n",
            "max        14.280000\n",
            "Name: 41, dtype: float64\n",
            "**************************\n",
            "count    4601.000000\n",
            "mean        0.046099\n",
            "std         0.223812\n",
            "min         0.000000\n",
            "25%         0.000000\n",
            "50%         0.000000\n",
            "75%         0.000000\n",
            "max         3.570000\n",
            "Name: 42, dtype: float64\n",
            "**************************\n",
            "count    4601.000000\n",
            "mean        0.079196\n",
            "std         0.621976\n",
            "min         0.000000\n",
            "25%         0.000000\n",
            "50%         0.000000\n",
            "75%         0.000000\n",
            "max        20.000000\n",
            "Name: 43, dtype: float64\n",
            "**************************\n",
            "count    4601.000000\n",
            "mean        0.301224\n",
            "std         1.011687\n",
            "min         0.000000\n",
            "25%         0.000000\n",
            "50%         0.000000\n",
            "75%         0.110000\n",
            "max        21.420000\n",
            "Name: 44, dtype: float64\n",
            "**************************\n",
            "count    4601.000000\n",
            "mean        0.179824\n",
            "std         0.911119\n",
            "min         0.000000\n",
            "25%         0.000000\n",
            "50%         0.000000\n",
            "75%         0.000000\n",
            "max        22.050000\n",
            "Name: 45, dtype: float64\n",
            "**************************\n",
            "count    4601.000000\n",
            "mean        0.005444\n",
            "std         0.076274\n",
            "min         0.000000\n",
            "25%         0.000000\n",
            "50%         0.000000\n",
            "75%         0.000000\n",
            "max         2.170000\n",
            "Name: 46, dtype: float64\n",
            "**************************\n",
            "count    4601.000000\n",
            "mean        0.031869\n",
            "std         0.285735\n",
            "min         0.000000\n",
            "25%         0.000000\n",
            "50%         0.000000\n",
            "75%         0.000000\n",
            "max        10.000000\n",
            "Name: 47, dtype: float64\n",
            "**************************\n",
            "count    4601.000000\n",
            "mean        0.038575\n",
            "std         0.243471\n",
            "min         0.000000\n",
            "25%         0.000000\n",
            "50%         0.000000\n",
            "75%         0.000000\n",
            "max         4.385000\n",
            "Name: 48, dtype: float64\n",
            "**************************\n",
            "count    4601.000000\n",
            "mean        0.139030\n",
            "std         0.270355\n",
            "min         0.000000\n",
            "25%         0.000000\n",
            "50%         0.065000\n",
            "75%         0.188000\n",
            "max         9.752000\n",
            "Name: 49, dtype: float64\n",
            "**************************\n",
            "count    4601.000000\n",
            "mean        0.016976\n",
            "std         0.109394\n",
            "min         0.000000\n",
            "25%         0.000000\n",
            "50%         0.000000\n",
            "75%         0.000000\n",
            "max         4.081000\n",
            "Name: 50, dtype: float64\n",
            "**************************\n",
            "count    4601.000000\n",
            "mean        0.269071\n",
            "std         0.815672\n",
            "min         0.000000\n",
            "25%         0.000000\n",
            "50%         0.000000\n",
            "75%         0.315000\n",
            "max        32.478000\n",
            "Name: 51, dtype: float64\n",
            "**************************\n",
            "count    4601.000000\n",
            "mean        0.075811\n",
            "std         0.245882\n",
            "min         0.000000\n",
            "25%         0.000000\n",
            "50%         0.000000\n",
            "75%         0.052000\n",
            "max         6.003000\n",
            "Name: 52, dtype: float64\n",
            "**************************\n",
            "count    4601.000000\n",
            "mean        0.044238\n",
            "std         0.429342\n",
            "min         0.000000\n",
            "25%         0.000000\n",
            "50%         0.000000\n",
            "75%         0.000000\n",
            "max        19.829000\n",
            "Name: 53, dtype: float64\n",
            "**************************\n",
            "count    4601.000000\n",
            "mean        5.191515\n",
            "std        31.729449\n",
            "min         1.000000\n",
            "25%         1.588000\n",
            "50%         2.276000\n",
            "75%         3.706000\n",
            "max      1102.500000\n",
            "Name: 54, dtype: float64\n",
            "**************************\n",
            "count    4601.000000\n",
            "mean       52.172789\n",
            "std       194.891310\n",
            "min         1.000000\n",
            "25%         6.000000\n",
            "50%        15.000000\n",
            "75%        43.000000\n",
            "max      9989.000000\n",
            "Name: 55, dtype: float64\n",
            "**************************\n",
            "count     4601.000000\n",
            "mean       283.289285\n",
            "std        606.347851\n",
            "min          1.000000\n",
            "25%         35.000000\n",
            "50%         95.000000\n",
            "75%        266.000000\n",
            "max      15841.000000\n",
            "Name: 56, dtype: float64\n",
            "**************************\n"
          ]
        }
      ]
    },
    {
      "cell_type": "markdown",
      "metadata": {
        "id": "Eua_3N4gyWqi"
      },
      "source": [
        "## Modelling (Naive-Bayes Classifier)"
      ]
    },
    {
      "cell_type": "markdown",
      "source": [
        "### Data Preparation Summary"
      ],
      "metadata": {
        "id": "RA8_FU4id4eo"
      }
    },
    {
      "cell_type": "markdown",
      "source": [
        "Cleaning/Preparation summary:\n",
        "* No columns were dropped - all columns are necessary because they represent percentages/lengths important words and characteristics that will help in identifying spam\n",
        "* Missing values were checked for and and none were found.\n",
        "* Some duplicates were found and weren't dropped because it is possible for different emails to have the same general attributes that the columns represented."
      ],
      "metadata": {
        "id": "lrLMLvb1XyRr"
      }
    },
    {
      "cell_type": "code",
      "source": [
        "accuracies = []"
      ],
      "metadata": {
        "id": "QZG9YKEuiEXm"
      },
      "execution_count": 99,
      "outputs": []
    },
    {
      "cell_type": "markdown",
      "metadata": {
        "id": "mcoN0JySDCAA"
      },
      "source": [
        "### 80-20 split"
      ]
    },
    {
      "cell_type": "code",
      "source": [
        "df.columns"
      ],
      "metadata": {
        "colab": {
          "base_uri": "https://localhost:8080/"
        },
        "id": "DHs6sEgVdZjl",
        "outputId": "5914a62e-6ba6-47c1-ee73-e867c6aa9b87"
      },
      "execution_count": 100,
      "outputs": [
        {
          "output_type": "execute_result",
          "data": {
            "text/plain": [
              "Int64Index([ 0,  1,  2,  3,  4,  5,  6,  7,  8,  9, 10, 11, 12, 13, 14, 15, 16,\n",
              "            17, 18, 19, 20, 21, 22, 23, 24, 25, 26, 27, 28, 29, 30, 31, 32, 33,\n",
              "            34, 35, 36, 37, 38, 39, 40, 41, 42, 43, 44, 45, 46, 47, 48, 49, 50,\n",
              "            51, 52, 53, 54, 55, 56, 57],\n",
              "           dtype='int64')"
            ]
          },
          "metadata": {},
          "execution_count": 100
        }
      ]
    },
    {
      "cell_type": "code",
      "source": [
        "# separating features and label\n",
        "\n",
        "# \n",
        "X = df.drop(57, axis=1)\n",
        "y = df[57]"
      ],
      "metadata": {
        "id": "y3Em_q97gkJN"
      },
      "execution_count": 101,
      "outputs": []
    },
    {
      "cell_type": "code",
      "source": [
        "#splitting into test and train (80-20)\n",
        "from sklearn.model_selection import train_test_split\n",
        "X_train, X_test, y_train, y_test = train_test_split(X, y, test_size=0.20, random_state=0)\n",
        "\n",
        "# Training and Predictions\n",
        "#  For text classification problems, the Multinomial Naive Bayes Classifier \n",
        "\n",
        "model = MultinomialNB().fit(X_train, y_train)\n",
        "y_pred = model.predict(X_test)\n",
        "\n",
        "# Evaluating the model\n",
        "accuracy = metrics.accuracy_score(y_test, y_pred)\n",
        "accuracies.append(['80-20: Accuracy ', accuracy, 'Precision: ', metrics.precision_score(y_test, y_pred)])\n",
        "\n",
        "print('Accuracy score: ', accuracy)\n",
        "print(metrics.confusion_matrix(y_test, y_pred))\n",
        "metrics.ConfusionMatrixDisplay.from_predictions(y_test, y_pred, display_labels=['not spam', 'spam'])\n",
        "plt.show()\n",
        "print(metrics.classification_report(y_test, y_pred))"
      ],
      "metadata": {
        "colab": {
          "base_uri": "https://localhost:8080/",
          "height": 489
        },
        "id": "wJ6OAFyxa8ia",
        "outputId": "95ccb006-8df5-4a41-c402-70b7c5b7a843"
      },
      "execution_count": 102,
      "outputs": [
        {
          "output_type": "stream",
          "name": "stdout",
          "text": [
            "Accuracy score:  0.8121606948968513\n",
            "[[454  84]\n",
            " [ 89 294]]\n"
          ]
        },
        {
          "output_type": "display_data",
          "data": {
            "text/plain": [
              "<Figure size 432x288 with 2 Axes>"
            ],
            "image/png": "[encoded data removed]"
          },
          "metadata": {
            "needs_background": "light"
          }
        },
        {
          "output_type": "stream",
          "name": "stdout",
          "text": [
            "              precision    recall  f1-score   support\n",
            "\n",
            "           0       0.84      0.84      0.84       538\n",
            "           1       0.78      0.77      0.77       383\n",
            "\n",
            "    accuracy                           0.81       921\n",
            "   macro avg       0.81      0.81      0.81       921\n",
            "weighted avg       0.81      0.81      0.81       921\n",
            "\n"
          ]
        }
      ]
    },
    {
      "cell_type": "markdown",
      "source": [
        "* true positives-294\n",
        "* false negatives - 89\n",
        "* true negatives - 454\n",
        "* false positives - 84"
      ],
      "metadata": {
        "id": "Bn0qxVWcMFn-"
      }
    },
    {
      "cell_type": "markdown",
      "source": [
        "minimising false positives is of more importance in spam detection because important emails can be missed when they are marked as spam. Precision of positive class is 0.778, and this should be improved."
      ],
      "metadata": {
        "id": "PAd6zoV-MgjS"
      }
    },
    {
      "cell_type": "markdown",
      "metadata": {
        "id": "6wU_0CaeDSES"
      },
      "source": [
        "### 70-30 split"
      ]
    },
    {
      "cell_type": "code",
      "source": [
        "#splitting into test and train (70-30)\n",
        "from sklearn.model_selection import train_test_split\n",
        "X_train, X_test, y_train, y_test = train_test_split(X, y, test_size=0.30, random_state=0)\n",
        "\n",
        "# Training and Predictions\n",
        "from sklearn.naive_bayes import MultinomialNB\n",
        "\n",
        "model = MultinomialNB().fit(X_train, y_train)\n",
        "y_pred = model.predict(X_test)\n",
        "\n",
        "# Evaluating the model\n",
        "accuracy = metrics.accuracy_score(y_test, y_pred)\n",
        "accuracies.append(['70-30: Accuracy ', accuracy, 'Precision: ', metrics.precision_score(y_test, y_pred)])\n",
        "\n",
        "print('Accuracy score: ', accuracy)\n",
        "print(metrics.confusion_matrix(y_test, y_pred))\n",
        "metrics.ConfusionMatrixDisplay.from_predictions(y_test, y_pred, display_labels=['not spam', 'spam'])\n",
        "plt.show()\n",
        "print(metrics.classification_report(y_test, y_pred))"
      ],
      "metadata": {
        "colab": {
          "base_uri": "https://localhost:8080/",
          "height": 487
        },
        "id": "KqU_bWAyjEFd",
        "outputId": "e94fa71c-1946-4970-b13e-f1b28616ccdc"
      },
      "execution_count": 103,
      "outputs": [
        {
          "output_type": "stream",
          "name": "stdout",
          "text": [
            "Accuracy score:  0.8095582910934106\n",
            "[[699 123]\n",
            " [140 419]]\n"
          ]
        },
        {
          "output_type": "display_data",
          "data": {
            "text/plain": [
              "<Figure size 432x288 with 2 Axes>"
            ],
            "image/png": "[encoded data removed]"
          },
          "metadata": {
            "needs_background": "light"
          }
        },
        {
          "output_type": "stream",
          "name": "stdout",
          "text": [
            "              precision    recall  f1-score   support\n",
            "\n",
            "           0       0.83      0.85      0.84       822\n",
            "           1       0.77      0.75      0.76       559\n",
            "\n",
            "    accuracy                           0.81      1381\n",
            "   macro avg       0.80      0.80      0.80      1381\n",
            "weighted avg       0.81      0.81      0.81      1381\n",
            "\n"
          ]
        }
      ]
    },
    {
      "cell_type": "markdown",
      "source": [
        "* true positives-419\n",
        "* false negatives -140\n",
        "* true negatives - 699\n",
        "* false positives - 123"
      ],
      "metadata": {
        "id": "BGRDE396LULO"
      }
    },
    {
      "cell_type": "code",
      "source": [
        "accuracies"
      ],
      "metadata": {
        "colab": {
          "base_uri": "https://localhost:8080/"
        },
        "id": "EbJHVfz6jaCI",
        "outputId": "046c6eae-c8f1-471d-fa36-816bdab501a3"
      },
      "execution_count": 104,
      "outputs": [
        {
          "output_type": "execute_result",
          "data": {
            "text/plain": [
              "[['80-20: Accuracy ', 0.8121606948968513, 'Precision: ', 0.7777777777777778],\n",
              " ['70-30: Accuracy ', 0.8095582910934106, 'Precision: ', 0.7730627306273062]]"
            ]
          },
          "metadata": {},
          "execution_count": 104
        }
      ]
    },
    {
      "cell_type": "markdown",
      "source": [
        "The 80-20 train test split has higher accuracy (81.2%) and precision (77.8%) than the 70-30 split."
      ],
      "metadata": {
        "id": "nUEN9mGLjc6N"
      }
    },
    {
      "cell_type": "markdown",
      "source": [
        "### 60-40 split"
      ],
      "metadata": {
        "id": "quyUz3XbhRmu"
      }
    },
    {
      "cell_type": "code",
      "source": [
        "#splitting into test and train (60-40)\n",
        "from sklearn.model_selection import train_test_split\n",
        "X_train, X_test, y_train, y_test = train_test_split(X, y, test_size=0.40, random_state=0)\n",
        "\n",
        "# Training and Predictions\n",
        "from sklearn.naive_bayes import MultinomialNB\n",
        "\n",
        "model = MultinomialNB().fit(X_train, y_train)\n",
        "y_pred = model.predict(X_test)\n",
        "\n",
        "# Evaluating the model\n",
        "accuracy = metrics.accuracy_score(y_test, y_pred)\n",
        "accuracies.append(['60-40: Accuracy ', accuracy, 'Precision: ', metrics.precision_score(y_test, y_pred)])\n",
        "\n",
        "print('Accuracy score: ', accuracy)\n",
        "print(metrics.confusion_matrix(y_test, y_pred))\n",
        "metrics.ConfusionMatrixDisplay.from_predictions(y_test, y_pred, display_labels=['not spam', 'spam'])\n",
        "plt.show()\n",
        "print(metrics.classification_report(y_test, y_pred))"
      ],
      "metadata": {
        "colab": {
          "base_uri": "https://localhost:8080/",
          "height": 487
        },
        "id": "1xrI5-SLjTN1",
        "outputId": "75a380d5-3bbf-4527-c538-a95cb2a055cf"
      },
      "execution_count": 105,
      "outputs": [
        {
          "output_type": "stream",
          "name": "stdout",
          "text": [
            "Accuracy score:  0.8098859315589354\n",
            "[[952 145]\n",
            " [205 539]]\n"
          ]
        },
        {
          "output_type": "display_data",
          "data": {
            "text/plain": [
              "<Figure size 432x288 with 2 Axes>"
            ],
            "image/png": "[encoded data removed]"
          },
          "metadata": {
            "needs_background": "light"
          }
        },
        {
          "output_type": "stream",
          "name": "stdout",
          "text": [
            "              precision    recall  f1-score   support\n",
            "\n",
            "           0       0.82      0.87      0.84      1097\n",
            "           1       0.79      0.72      0.75       744\n",
            "\n",
            "    accuracy                           0.81      1841\n",
            "   macro avg       0.81      0.80      0.80      1841\n",
            "weighted avg       0.81      0.81      0.81      1841\n",
            "\n"
          ]
        }
      ]
    },
    {
      "cell_type": "markdown",
      "source": [
        "* true positives-539\n",
        "* false negatives -205\n",
        "* true negatives - 952\n",
        "* false positives - 145"
      ],
      "metadata": {
        "id": "e26KCNdFL2y0"
      }
    },
    {
      "cell_type": "code",
      "source": [
        "accuracies"
      ],
      "metadata": {
        "colab": {
          "base_uri": "https://localhost:8080/"
        },
        "id": "Nu2AAt81jzLd",
        "outputId": "cc3a18ca-249c-496f-f769-8bb39530a458"
      },
      "execution_count": 106,
      "outputs": [
        {
          "output_type": "execute_result",
          "data": {
            "text/plain": [
              "[['80-20: Accuracy ', 0.8121606948968513, 'Precision: ', 0.7777777777777778],\n",
              " ['70-30: Accuracy ', 0.8095582910934106, 'Precision: ', 0.7730627306273062],\n",
              " ['60-40: Accuracy ', 0.8098859315589354, 'Precision: ', 0.7880116959064327]]"
            ]
          },
          "metadata": {},
          "execution_count": 106
        }
      ]
    },
    {
      "cell_type": "markdown",
      "source": [
        "The 60-40 train-test split gave the second best accuracy, but the precision was the highest. Since in detecting spam minimising false positives is of more importance, this is the best model so far for this project."
      ],
      "metadata": {
        "id": "FwQ0e5I6j2wl"
      }
    },
    {
      "cell_type": "code",
      "source": [
        ""
      ],
      "metadata": {
        "id": "63p0Zfoa67am"
      },
      "execution_count": 106,
      "outputs": []
    },
    {
      "cell_type": "markdown",
      "source": [
        "### Optimization"
      ],
      "metadata": {
        "id": "aYW1PMkUhYp-"
      }
    },
    {
      "cell_type": "markdown",
      "source": [
        "Optimizing best model so far (60-40 train-test split - highest precision)."
      ],
      "metadata": {
        "id": "2Eo0Lg0jlIlM"
      }
    },
    {
      "cell_type": "markdown",
      "source": [
        "#### Smoothing"
      ],
      "metadata": {
        "id": "1FMSgNOYiEdl"
      }
    },
    {
      "cell_type": "code",
      "source": [
        "from sklearn.model_selection import train_test_split\n",
        "X_train, X_test, y_train, y_test = train_test_split(X, y, test_size=0.40, random_state=0)"
      ],
      "metadata": {
        "id": "6_LJ_yK4ly93"
      },
      "execution_count": 107,
      "outputs": []
    },
    {
      "cell_type": "code",
      "source": [
        "#using grid search to tune hyperparameters\n",
        "#finding best parameter values from range below\n",
        "parameters = {'alpha': np.arange(1, 5, 0.5)}\n",
        "\n",
        "nb = MultinomialNB()\n",
        "#finding values\n",
        "search = GridSearchCV(estimator=nb,param_grid=parameters,scoring='precision')\n",
        "search.fit(X_train,y_train)\n",
        "print(search.best_params_)"
      ],
      "metadata": {
        "colab": {
          "base_uri": "https://localhost:8080/"
        },
        "id": "LrfFHG75hPq5",
        "outputId": "1fca77d5-baf4-4712-e77d-3c754d48f311"
      },
      "execution_count": 108,
      "outputs": [
        {
          "output_type": "stream",
          "name": "stdout",
          "text": [
            "{'alpha': 1.0}\n"
          ]
        }
      ]
    },
    {
      "cell_type": "markdown",
      "source": [
        "The grid search identified an alpha value of 1, which is the default that was used in the above models. The metric scores therefore remain the same."
      ],
      "metadata": {
        "id": "2BT9kL5UEmC0"
      }
    },
    {
      "cell_type": "code",
      "source": [
        "accuracies"
      ],
      "metadata": {
        "colab": {
          "base_uri": "https://localhost:8080/"
        },
        "id": "B1KiDbL2KI9S",
        "outputId": "6232e3d9-73e9-4b9b-90e7-8cf8a71e4566"
      },
      "execution_count": 109,
      "outputs": [
        {
          "output_type": "execute_result",
          "data": {
            "text/plain": [
              "[['80-20: Accuracy ', 0.8121606948968513, 'Precision: ', 0.7777777777777778],\n",
              " ['70-30: Accuracy ', 0.8095582910934106, 'Precision: ', 0.7730627306273062],\n",
              " ['60-40: Accuracy ', 0.8098859315589354, 'Precision: ', 0.7880116959064327]]"
            ]
          },
          "metadata": {},
          "execution_count": 109
        }
      ]
    },
    {
      "cell_type": "markdown",
      "source": [
        "#### More preprocessing (class imbalance)"
      ],
      "metadata": {
        "id": "ufsL9wcAhbuN"
      }
    },
    {
      "cell_type": "code",
      "source": [
        "#class imbalance present\n",
        "df[57].value_counts()"
      ],
      "metadata": {
        "colab": {
          "base_uri": "https://localhost:8080/"
        },
        "id": "ZleYuDfGTyzp",
        "outputId": "b6716f3e-8342-448b-ccc1-5a51988b3a63"
      },
      "execution_count": 110,
      "outputs": [
        {
          "output_type": "execute_result",
          "data": {
            "text/plain": [
              "0    2788\n",
              "1    1813\n",
              "Name: 57, dtype: int64"
            ]
          },
          "metadata": {},
          "execution_count": 110
        }
      ]
    },
    {
      "cell_type": "markdown",
      "source": [
        "##### Random undersampling majority class"
      ],
      "metadata": {
        "id": "AlEEkTpX2sG4"
      }
    },
    {
      "cell_type": "code",
      "source": [
        "#separating features and target\n",
        "X = df.drop(columns=57)\n",
        "y = df[57]\n",
        "\n",
        "\n",
        "#splitting into test and train (60-40)\n",
        "from sklearn.model_selection import train_test_split\n",
        "X_train, X_test, y_train, y_test = train_test_split(X, y, test_size=0.40, random_state=0)\n",
        "\n",
        "#random undersampling of the majority class in training set using imblearn's RandomUnderSampler\n",
        "from imblearn.under_sampling import RandomUnderSampler\n",
        "\n",
        "rus = RandomUnderSampler(random_state=0, replacement=True)\n",
        "#subsets with undersampled version\n",
        "x_rus, y_rus = rus.fit_resample(X_train, y_train)\n",
        "# Training and Predictions\n",
        "\n",
        "\n",
        "model = MultinomialNB().fit(x_rus, y_rus)\n",
        "\n",
        "#predicting the test set\n",
        "y_pred = model.predict(X_test)\n",
        "\n",
        "# Evaluating the model\n",
        "accuracy = metrics.accuracy_score(y_test, y_pred)\n",
        "accuracies.append(['60-40 undersampling: Accuracy ', accuracy, 'Precision: ', metrics.precision_score(y_test, y_pred)])\n",
        "\n",
        "print('Accuracy score: ', accuracy)\n",
        "print('precision score: ', metrics.precision_score(y_test, y_pred))\n",
        "print(metrics.confusion_matrix(y_test, y_pred))\n",
        "metrics.ConfusionMatrixDisplay.from_predictions(y_test, y_pred, display_labels=['not spam', 'spam'])\n",
        "plt.show()\n",
        "print(metrics.classification_report(y_test, y_pred))"
      ],
      "metadata": {
        "colab": {
          "base_uri": "https://localhost:8080/",
          "height": 505
        },
        "id": "-hu0QWKaKuUD",
        "outputId": "f5ae8fa9-d512-4406-a725-c82b522d6057"
      },
      "execution_count": 111,
      "outputs": [
        {
          "output_type": "stream",
          "name": "stdout",
          "text": [
            "Accuracy score:  0.8060836501901141\n",
            "precision score:  0.7647058823529411\n",
            "[[925 172]\n",
            " [185 559]]\n"
          ]
        },
        {
          "output_type": "display_data",
          "data": {
            "text/plain": [
              "<Figure size 432x288 with 2 Axes>"
            ],
            "image/png": "[encoded data removed]"
          },
          "metadata": {
            "needs_background": "light"
          }
        },
        {
          "output_type": "stream",
          "name": "stdout",
          "text": [
            "              precision    recall  f1-score   support\n",
            "\n",
            "           0       0.83      0.84      0.84      1097\n",
            "           1       0.76      0.75      0.76       744\n",
            "\n",
            "    accuracy                           0.81      1841\n",
            "   macro avg       0.80      0.80      0.80      1841\n",
            "weighted avg       0.81      0.81      0.81      1841\n",
            "\n"
          ]
        }
      ]
    },
    {
      "cell_type": "code",
      "source": [
        "accuracies"
      ],
      "metadata": {
        "colab": {
          "base_uri": "https://localhost:8080/"
        },
        "id": "Vi__qaHEYuOI",
        "outputId": "32ae2777-51b1-448e-fdf7-b7f33ce4af71"
      },
      "execution_count": 112,
      "outputs": [
        {
          "output_type": "execute_result",
          "data": {
            "text/plain": [
              "[['80-20: Accuracy ', 0.8121606948968513, 'Precision: ', 0.7777777777777778],\n",
              " ['70-30: Accuracy ', 0.8095582910934106, 'Precision: ', 0.7730627306273062],\n",
              " ['60-40: Accuracy ', 0.8098859315589354, 'Precision: ', 0.7880116959064327],\n",
              " ['60-40 undersampling: Accuracy ',\n",
              "  0.8060836501901141,\n",
              "  'Precision: ',\n",
              "  0.7647058823529411]]"
            ]
          },
          "metadata": {},
          "execution_count": 112
        }
      ]
    },
    {
      "cell_type": "markdown",
      "source": [
        "With random undersampling of training set to combat class imbalance (60-40 split to establish train and test sets), the accuracy score, as well precision are lower than the other models."
      ],
      "metadata": {
        "id": "bJVUXykn0-c6"
      }
    },
    {
      "cell_type": "markdown",
      "source": [
        "##### Random oversampling of minority class"
      ],
      "metadata": {
        "id": "pAxcTzXz3YEs"
      }
    },
    {
      "cell_type": "code",
      "source": [
        "#separating features and target\n",
        "X = df.drop(columns=57)\n",
        "y = df[57]\n",
        "\n",
        "\n",
        "#splitting into test and train (60-40)\n",
        "from sklearn.model_selection import train_test_split\n",
        "X_train, X_test, y_train, y_test = train_test_split(X, y, test_size=0.40, random_state=0)\n",
        "\n",
        "\n",
        "#performing sampling technique on training set only, preserving integrity of the test set\n",
        "#random oversampling of the minority class in training set using imblearn's RandomOverSampler\n",
        "from imblearn.over_sampling import RandomOverSampler\n",
        "\n",
        "ros = RandomOverSampler(random_state=0)\n",
        "#subsets with oversampled version\n",
        "x_ros, y_ros = ros.fit_resample(X_train, y_train)\n",
        "\n",
        "#fitting the model\n",
        "model = MultinomialNB().fit(x_ros, y_ros)\n",
        "\n",
        "#predicting test set\n",
        "y_pred = model.predict(X_test)\n",
        "\n",
        "# Evaluating the model\n",
        "accuracy = metrics.accuracy_score(y_test, y_pred)\n",
        "accuracies.append(['60-40 random oversampling: Accuracy ', accuracy, 'Precision: ', metrics.precision_score(y_test, y_pred)])\n",
        "\n",
        "print('Accuracy score: ', accuracy)\n",
        "print('precision score: ', metrics.precision_score(y_test, y_pred))\n",
        "print(metrics.confusion_matrix(y_test, y_pred))\n",
        "metrics.ConfusionMatrixDisplay.from_predictions(y_test, y_pred, display_labels=['not spam', 'spam'])\n",
        "plt.show()\n",
        "print(metrics.classification_report(y_test, y_pred))\n"
      ],
      "metadata": {
        "colab": {
          "base_uri": "https://localhost:8080/",
          "height": 505
        },
        "id": "w3L7TB7QEqNB",
        "outputId": "cc26b852-9111-48cf-a7cf-f9a4ded6f560"
      },
      "execution_count": 113,
      "outputs": [
        {
          "output_type": "stream",
          "name": "stdout",
          "text": [
            "Accuracy score:  0.7832699619771863\n",
            "precision score:  0.7525622254758418\n",
            "[[928 169]\n",
            " [230 514]]\n"
          ]
        },
        {
          "output_type": "display_data",
          "data": {
            "text/plain": [
              "<Figure size 432x288 with 2 Axes>"
            ],
            "image/png": "[encoded data removed]"
          },
          "metadata": {
            "needs_background": "light"
          }
        },
        {
          "output_type": "stream",
          "name": "stdout",
          "text": [
            "              precision    recall  f1-score   support\n",
            "\n",
            "           0       0.80      0.85      0.82      1097\n",
            "           1       0.75      0.69      0.72       744\n",
            "\n",
            "    accuracy                           0.78      1841\n",
            "   macro avg       0.78      0.77      0.77      1841\n",
            "weighted avg       0.78      0.78      0.78      1841\n",
            "\n"
          ]
        }
      ]
    },
    {
      "cell_type": "code",
      "source": [
        "accuracies"
      ],
      "metadata": {
        "colab": {
          "base_uri": "https://localhost:8080/"
        },
        "id": "y8yZOMUuZQKk",
        "outputId": "edaa6f64-fafc-49a7-9be3-714715da6108"
      },
      "execution_count": 114,
      "outputs": [
        {
          "output_type": "execute_result",
          "data": {
            "text/plain": [
              "[['80-20: Accuracy ', 0.8121606948968513, 'Precision: ', 0.7777777777777778],\n",
              " ['70-30: Accuracy ', 0.8095582910934106, 'Precision: ', 0.7730627306273062],\n",
              " ['60-40: Accuracy ', 0.8098859315589354, 'Precision: ', 0.7880116959064327],\n",
              " ['60-40 undersampling: Accuracy ',\n",
              "  0.8060836501901141,\n",
              "  'Precision: ',\n",
              "  0.7647058823529411],\n",
              " ['60-40 random oversampling: Accuracy ',\n",
              "  0.7832699619771863,\n",
              "  'Precision: ',\n",
              "  0.7525622254758418]]"
            ]
          },
          "metadata": {},
          "execution_count": 114
        }
      ]
    },
    {
      "cell_type": "markdown",
      "source": [
        "With random undersampling of training set to combat class imbalance (60-40 split to establish train and test sets), the accuracy and precision are lower than the previous models."
      ],
      "metadata": {
        "id": "HmOTHbO52KlR"
      }
    },
    {
      "cell_type": "markdown",
      "source": [
        "The best  naive-bayes model identified was therefore the third one-using a 60-40 split, default alpha of 1, and with no oversampling or undersampling (Accuracy - 0.8099, Precision - 0.7880)."
      ],
      "metadata": {
        "id": "kO_JACIWbgk_"
      }
    },
    {
      "cell_type": "markdown",
      "metadata": {
        "id": "7e0eMZtITg-1"
      },
      "source": [
        "## Conclusions and Recommendations"
      ]
    },
    {
      "cell_type": "markdown",
      "metadata": {
        "id": "0rMf1djm_t7j"
      },
      "source": [
        "### Conclusion"
      ]
    },
    {
      "cell_type": "markdown",
      "metadata": {
        "id": "hK7bpYrn_yC-"
      },
      "source": [
        "The dataset was loaded, and cleaned, and univariate analysis carried out.\n",
        "\n",
        "Cleaning/Preparation summary:\n",
        "\n",
        "* No columns were dropped - all columns are necessary because they represent percentages/lengths important words and characteristics that will help in identifying spam\n",
        "* Missing values were checked for and and none were found.\n",
        "* Some duplicates were found and weren't dropped because it is possible for different emails to have the same general attributes that the columns represented.\n",
        "\n",
        "These were the columns:\n",
        "* 48  real attributes of type word_freq_WORD\n",
        "= percentage of words in the e-mail that match WORD, i.e. 100 * (number of times the WORD appears in the e-mail) / total number of words in e-mail. A \"word\" in this case is any string of alphanumeric characters bounded by non-alphanumeric characters or end-of-string.\n",
        "\n",
        "* 6 real attributes of type char_freq_CHAR]\n",
        "= percentage of characters in the e-mail that match CHAR, i.e. 100 * (number of CHAR occurences) / total characters in e-mail\n",
        "\n",
        "* 1 real attribute of type capital_run_length_average\n",
        "= average length of uninterrupted sequences of capital letters\n",
        "\n",
        "* 1  integer attribute of type capital_run_length_longest\n",
        "= length of longest uninterrupted sequence of capital letters\n",
        "\n",
        "* 1  integer attribute of type capital_run_length_total\n",
        "= sum of length of uninterrupted sequences of capital letters\n",
        "= total number of capital letters in the e-mail\n",
        "\n",
        "* 1 nominal class attribute of type spam\n",
        "= denotes whether the e-mail was considered spam (1) or not (0), i.e. unsolicited commercial e-mail.\n",
        "\n",
        "Modelling was then carried out. The major objective was achieved - creating a model able to determine whether or not an email is spam.\n"
      ]
    },
    {
      "cell_type": "markdown",
      "metadata": {
        "id": "fWveN4CcQDk6"
      },
      "source": [
        "\n",
        "**Modelling**\n",
        "\n",
        "Naive-Bayes Classifiers (multinomial) were used. Minimising false positives is of more importance in spam detection because important emails being marked as spam is more detrimental than spam finding its way to the primary inbox. Therefore, in this case, precision is an important metric to consider.\n",
        "\n",
        "Initially, different ratios of train size:test size were used:\n",
        "\n",
        "* 80-20: , Accuracy: 0.812, Precision: 0.778\n",
        "* 70-30: , Accuracy: 0.8096, Precision: 0.773\n",
        "* 60-40: , Accuracy: 0.8099, Precision: ', 0.788\n",
        "\n",
        "**The 60-40 train-test split gave the second best accuracy, but the precision was the highest.** Since in detecting spam minimising false positives is of more importance, this is the best model so far for this project.\n",
        "\n",
        "Using the train:test ratio of 60:40, various optimization techniques were tested to see if a model with precision > the 0.788 and greater accuracy could be identified:\n",
        "* First, a grid search was used to identify the best value for the smoothing hyperparameter 'alpha'. The grid search identified an alpha value of 1, which is the default that was used in the previous models, so the evaluation metrics would not change.\n",
        "* Next, random undersampling of majority class in training set was carried out. This resulted in an accuracy - 0.806 and precision - 0.765, which are lower than the other models.\n",
        "* Finally, random oversampling of minority class in training set was carried out. This resulted in an accuracy - 0.783 and precision - 0.7525, which are lower than all other models.\n",
        "\n",
        "**The best multinomial naive-bayes model identified was therefore the third one-using a 60-40 split, default alpha of 1, and with no oversampling or undersampling (Accuracy - 0.8099, Precision - 0.7880). It was the best because although it had the second best accuracy, the precision was the highest,and in spam detection precision is key.**"
      ]
    },
    {
      "cell_type": "markdown",
      "metadata": {
        "id": "7iV4NlV6gI4p"
      },
      "source": [
        "### Recommendation"
      ]
    },
    {
      "cell_type": "markdown",
      "metadata": {
        "id": "l0DapIEUgPLm"
      },
      "source": [
        "Based on the analysis, for detecting spam, we would recommend using a 60-40 train-test split with default alpha of 1.\n",
        "\n",
        "Out of all the models tested, although it had the second best accuracy, the precision was the highest,and in spam detection precision is key.\n",
        "\n",
        "To optimize the model even further, we recommend exploring more preprocessing techniques, as well as feature selection."
      ]
    }
  ]
}