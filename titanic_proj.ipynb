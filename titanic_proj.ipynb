{
  "nbformat": 4,
  "nbformat_minor": 0,
  "metadata": {
    "colab": {
      "name": "titanic_proj.ipynb",
      "provenance": [],
      "collapsed_sections": [
        "kLG2VTrnTvYL",
        "XecOwPNorl2W",
        "J4wfHZwQrs-t",
        "a9BPYqunry97",
        "7KMRBJ7zr9HD",
        "zSGyg6kWsBUl",
        "iUNbvIvnT7ep",
        "OI3P3YnHUEBk",
        "ckfufNrcUHeH",
        "6XC_g-zKxe-r",
        "FlBMxEDBUc9B",
        "rF2ABPsHUtbZ",
        "vTbdjSrhVIiT",
        "lQ2G4ZPDVOXE",
        "xrmHVMVsVS--",
        "HPQviDmNtta8",
        "qjFHK1CKty7o",
        "HSsicSdvt4Zs"
      ],
      "toc_visible": true,
      "include_colab_link": true
    },
    "kernelspec": {
      "name": "python3",
      "display_name": "Python 3"
    }
  },
  "cells": [
    {
      "cell_type": "markdown",
      "metadata": {
        "id": "view-in-github",
        "colab_type": "text"
      },
      "source": [
        "<a href=\"https://colab.research.google.com/github/Sharon-Faith/spam_titanic_proj/blob/main/titanic_proj.ipynb\" target=\"_parent\"><img src=\"https://colab.research.google.com/assets/colab-badge.svg\" alt=\"Open In Colab\"/></a>"
      ]
    },
    {
      "cell_type": "markdown",
      "metadata": {
        "id": "kLG2VTrnTvYL"
      },
      "source": [
        "## Introduction"
      ]
    },
    {
      "cell_type": "markdown",
      "metadata": {
        "id": "XecOwPNorl2W"
      },
      "source": [
        "### a) Specifying the Question"
      ]
    },
    {
      "cell_type": "markdown",
      "source": [
        "The purpose of the study to create a model that will be able to determine whether or not a passenger survived the titanic, based on a number of factors (in [this dataset](https://archive.org/download/train5_202002/train%20%285%29.csv))."
      ],
      "metadata": {
        "id": "FvImeg6K29pb"
      }
    },
    {
      "cell_type": "markdown",
      "metadata": {
        "id": "J4wfHZwQrs-t"
      },
      "source": [
        "### b) Defining the Metric for Success"
      ]
    },
    {
      "cell_type": "markdown",
      "source": [
        "* Determining and visualising the descriptive statistics of the variables.\n",
        "* Determining and visualising the relationships between the column survived and the predictor variables.\n",
        "* Creating a model that will be able to determine whether or not a passenger survived the titanic.\n"
      ],
      "metadata": {
        "id": "G-an8aVB1TF1"
      }
    },
    {
      "cell_type": "markdown",
      "metadata": {
        "id": "a9BPYqunry97"
      },
      "source": [
        "### c) Understanding the context "
      ]
    },
    {
      "cell_type": "markdown",
      "source": [
        "The titanic was a ship that sunk in 1912 after striking an iceberg. It was the largest passenger ship afloat at the time. The disaster drew international attention and is still one of the most well known marine accidents. More than half of the passengers did not survive. There were a number of factors that influenced survival, such as age, cabin etc, and those factors will be explored in this project."
      ],
      "metadata": {
        "id": "N97LiG481UHC"
      }
    },
    {
      "cell_type": "markdown",
      "metadata": {
        "id": "7KMRBJ7zr9HD"
      },
      "source": [
        "### d) Recording the Experimental Design"
      ]
    },
    {
      "cell_type": "markdown",
      "source": [
        "*   Determine the main objectives\n",
        "*   Load and preview the dataset.\n",
        "*   Understand the data.\n",
        "*   Prepare the dataset - Identify outliers, anomalies, duplicates, missing values, and determine how deal with them, drop unnecessary columns etc.\n",
        "*    Analyse the dataset using univariate, bivariate and multivariate analysis techniques.\n",
        "*   Implement the solution through modelling.\n",
        "*   Challenge the solution.\n",
        "*   Conclusion and recommendations"
      ],
      "metadata": {
        "id": "Pm7izNn01WoG"
      }
    },
    {
      "cell_type": "markdown",
      "metadata": {
        "id": "zSGyg6kWsBUl"
      },
      "source": [
        "### e) Data Relevance"
      ]
    },
    {
      "cell_type": "markdown",
      "source": [
        "The dataset provided ([here](https://archive.org/download/train5_202002/train%20%285%29.csv)) is relevant to the research question. It has the survival status of passengers as well as other information such as sex, age etc that may have affected the survival status."
      ],
      "metadata": {
        "id": "bGSGTGGQ1Xdx"
      }
    },
    {
      "cell_type": "markdown",
      "metadata": {
        "id": "iUNbvIvnT7ep"
      },
      "source": [
        "## Reading the Data"
      ]
    },
    {
      "cell_type": "code",
      "source": [
        "#importing necessary libraries\n",
        "import numpy as np\n",
        "import pandas as pd\n",
        "import seaborn as sns\n",
        "import matplotlib.pyplot as plt\n",
        "from sklearn.model_selection import KFold\n",
        "from sklearn.model_selection import GridSearchCV\n",
        "from sklearn import metrics\n",
        "from sklearn.model_selection import train_test_split\n",
        "from sklearn.neighbors import KNeighborsClassifier\n",
        "from sklearn.preprocessing import StandardScaler\n",
        "from sklearn.preprocessing import LabelEncoder\n"
      ],
      "metadata": {
        "id": "-ddQvNLq7cDs"
      },
      "execution_count": null,
      "outputs": []
    },
    {
      "cell_type": "code",
      "metadata": {
        "id": "XJn2KjW-WMlG"
      },
      "source": [
        "# Loading the Dataset\n",
        "# \n",
        "df = pd.read_csv('train (5).csv')"
      ],
      "execution_count": null,
      "outputs": []
    },
    {
      "cell_type": "markdown",
      "metadata": {
        "id": "OI3P3YnHUEBk"
      },
      "source": [
        "## Checking the Data"
      ]
    },
    {
      "cell_type": "code",
      "metadata": {
        "id": "YjSVNwgptHxY",
        "colab": {
          "base_uri": "https://localhost:8080/"
        },
        "outputId": "4563d783-058e-4a61-ccb6-e4315465e00f"
      },
      "source": [
        "# Determining the no. of records in our dataset\n",
        "#\n",
        "df.shape"
      ],
      "execution_count": null,
      "outputs": [
        {
          "output_type": "execute_result",
          "data": {
            "text/plain": [
              "(891, 12)"
            ]
          },
          "metadata": {},
          "execution_count": 54
        }
      ]
    },
    {
      "cell_type": "code",
      "metadata": {
        "id": "xHhTw5eKWr0n",
        "colab": {
          "base_uri": "https://localhost:8080/",
          "height": 406
        },
        "outputId": "e32aff8a-ea2a-4f0d-bb72-abe5a578baa7"
      },
      "source": [
        "# Previewing the top of our dataset\n",
        "#\n",
        "df.head()"
      ],
      "execution_count": null,
      "outputs": [
        {
          "output_type": "execute_result",
          "data": {
            "text/plain": [
              "   PassengerId  Survived  Pclass  \\\n",
              "0            1         0       3   \n",
              "1            2         1       1   \n",
              "2            3         1       3   \n",
              "3            4         1       1   \n",
              "4            5         0       3   \n",
              "\n",
              "                                                Name     Sex   Age  SibSp  \\\n",
              "0                            Braund, Mr. Owen Harris    male  22.0      1   \n",
              "1  Cumings, Mrs. John Bradley (Florence Briggs Th...  female  38.0      1   \n",
              "2                             Heikkinen, Miss. Laina  female  26.0      0   \n",
              "3       Futrelle, Mrs. Jacques Heath (Lily May Peel)  female  35.0      1   \n",
              "4                           Allen, Mr. William Henry    male  35.0      0   \n",
              "\n",
              "   Parch            Ticket     Fare Cabin Embarked  \n",
              "0      0         A/5 21171   7.2500   NaN        S  \n",
              "1      0          PC 17599  71.2833   C85        C  \n",
              "2      0  STON/O2. 3101282   7.9250   NaN        S  \n",
              "3      0            113803  53.1000  C123        S  \n",
              "4      0            373450   8.0500   NaN        S  "
            ],
            "text/html": [
              "\n",
              "  <div id=\"df-81c71673-b311-4aaa-a224-cf8e734fb53e\">\n",
              "    <div class=\"colab-df-container\">\n",
              "      <div>\n",
              "<style scoped>\n",
              "    .dataframe tbody tr th:only-of-type {\n",
              "        vertical-align: middle;\n",
              "    }\n",
              "\n",
              "    .dataframe tbody tr th {\n",
              "        vertical-align: top;\n",
              "    }\n",
              "\n",
              "    .dataframe thead th {\n",
              "        text-align: right;\n",
              "    }\n",
              "</style>\n",
              "<table border=\"1\" class=\"dataframe\">\n",
              "  <thead>\n",
              "    <tr style=\"text-align: right;\">\n",
              "      <th></th>\n",
              "      <th>PassengerId</th>\n",
              "      <th>Survived</th>\n",
              "      <th>Pclass</th>\n",
              "      <th>Name</th>\n",
              "      <th>Sex</th>\n",
              "      <th>Age</th>\n",
              "      <th>SibSp</th>\n",
              "      <th>Parch</th>\n",
              "      <th>Ticket</th>\n",
              "      <th>Fare</th>\n",
              "      <th>Cabin</th>\n",
              "      <th>Embarked</th>\n",
              "    </tr>\n",
              "  </thead>\n",
              "  <tbody>\n",
              "    <tr>\n",
              "      <th>0</th>\n",
              "      <td>1</td>\n",
              "      <td>0</td>\n",
              "      <td>3</td>\n",
              "      <td>Braund, Mr. Owen Harris</td>\n",
              "      <td>male</td>\n",
              "      <td>22.0</td>\n",
              "      <td>1</td>\n",
              "      <td>0</td>\n",
              "      <td>A/5 21171</td>\n",
              "      <td>7.2500</td>\n",
              "      <td>NaN</td>\n",
              "      <td>S</td>\n",
              "    </tr>\n",
              "    <tr>\n",
              "      <th>1</th>\n",
              "      <td>2</td>\n",
              "      <td>1</td>\n",
              "      <td>1</td>\n",
              "      <td>Cumings, Mrs. John Bradley (Florence Briggs Th...</td>\n",
              "      <td>female</td>\n",
              "      <td>38.0</td>\n",
              "      <td>1</td>\n",
              "      <td>0</td>\n",
              "      <td>PC 17599</td>\n",
              "      <td>71.2833</td>\n",
              "      <td>C85</td>\n",
              "      <td>C</td>\n",
              "    </tr>\n",
              "    <tr>\n",
              "      <th>2</th>\n",
              "      <td>3</td>\n",
              "      <td>1</td>\n",
              "      <td>3</td>\n",
              "      <td>Heikkinen, Miss. Laina</td>\n",
              "      <td>female</td>\n",
              "      <td>26.0</td>\n",
              "      <td>0</td>\n",
              "      <td>0</td>\n",
              "      <td>STON/O2. 3101282</td>\n",
              "      <td>7.9250</td>\n",
              "      <td>NaN</td>\n",
              "      <td>S</td>\n",
              "    </tr>\n",
              "    <tr>\n",
              "      <th>3</th>\n",
              "      <td>4</td>\n",
              "      <td>1</td>\n",
              "      <td>1</td>\n",
              "      <td>Futrelle, Mrs. Jacques Heath (Lily May Peel)</td>\n",
              "      <td>female</td>\n",
              "      <td>35.0</td>\n",
              "      <td>1</td>\n",
              "      <td>0</td>\n",
              "      <td>113803</td>\n",
              "      <td>53.1000</td>\n",
              "      <td>C123</td>\n",
              "      <td>S</td>\n",
              "    </tr>\n",
              "    <tr>\n",
              "      <th>4</th>\n",
              "      <td>5</td>\n",
              "      <td>0</td>\n",
              "      <td>3</td>\n",
              "      <td>Allen, Mr. William Henry</td>\n",
              "      <td>male</td>\n",
              "      <td>35.0</td>\n",
              "      <td>0</td>\n",
              "      <td>0</td>\n",
              "      <td>373450</td>\n",
              "      <td>8.0500</td>\n",
              "      <td>NaN</td>\n",
              "      <td>S</td>\n",
              "    </tr>\n",
              "  </tbody>\n",
              "</table>\n",
              "</div>\n",
              "      <button class=\"colab-df-convert\" onclick=\"convertToInteractive('df-81c71673-b311-4aaa-a224-cf8e734fb53e')\"\n",
              "              title=\"Convert this dataframe to an interactive table.\"\n",
              "              style=\"display:none;\">\n",
              "        \n",
              "  <svg xmlns=\"http://www.w3.org/2000/svg\" height=\"24px\"viewBox=\"0 0 24 24\"\n",
              "       width=\"24px\">\n",
              "    <path d=\"M0 0h24v24H0V0z\" fill=\"none\"/>\n",
              "    <path d=\"M18.56 5.44l.94 2.06.94-2.06 2.06-.94-2.06-.94-.94-2.06-.94 2.06-2.06.94zm-11 1L8.5 8.5l.94-2.06 2.06-.94-2.06-.94L8.5 2.5l-.94 2.06-2.06.94zm10 10l.94 2.06.94-2.06 2.06-.94-2.06-.94-.94-2.06-.94 2.06-2.06.94z\"/><path d=\"M17.41 7.96l-1.37-1.37c-.4-.4-.92-.59-1.43-.59-.52 0-1.04.2-1.43.59L10.3 9.45l-7.72 7.72c-.78.78-.78 2.05 0 2.83L4 21.41c.39.39.9.59 1.41.59.51 0 1.02-.2 1.41-.59l7.78-7.78 2.81-2.81c.8-.78.8-2.07 0-2.86zM5.41 20L4 18.59l7.72-7.72 1.47 1.35L5.41 20z\"/>\n",
              "  </svg>\n",
              "      </button>\n",
              "      \n",
              "  <style>\n",
              "    .colab-df-container {\n",
              "      display:flex;\n",
              "      flex-wrap:wrap;\n",
              "      gap: 12px;\n",
              "    }\n",
              "\n",
              "    .colab-df-convert {\n",
              "      background-color: #E8F0FE;\n",
              "      border: none;\n",
              "      border-radius: 50%;\n",
              "      cursor: pointer;\n",
              "      display: none;\n",
              "      fill: #1967D2;\n",
              "      height: 32px;\n",
              "      padding: 0 0 0 0;\n",
              "      width: 32px;\n",
              "    }\n",
              "\n",
              "    .colab-df-convert:hover {\n",
              "      background-color: #E2EBFA;\n",
              "      box-shadow: 0px 1px 2px rgba(60, 64, 67, 0.3), 0px 1px 3px 1px rgba(60, 64, 67, 0.15);\n",
              "      fill: #174EA6;\n",
              "    }\n",
              "\n",
              "    [theme=dark] .colab-df-convert {\n",
              "      background-color: #3B4455;\n",
              "      fill: #D2E3FC;\n",
              "    }\n",
              "\n",
              "    [theme=dark] .colab-df-convert:hover {\n",
              "      background-color: #434B5C;\n",
              "      box-shadow: 0px 1px 3px 1px rgba(0, 0, 0, 0.15);\n",
              "      filter: drop-shadow(0px 1px 2px rgba(0, 0, 0, 0.3));\n",
              "      fill: #FFFFFF;\n",
              "    }\n",
              "  </style>\n",
              "\n",
              "      <script>\n",
              "        const buttonEl =\n",
              "          document.querySelector('#df-81c71673-b311-4aaa-a224-cf8e734fb53e button.colab-df-convert');\n",
              "        buttonEl.style.display =\n",
              "          google.colab.kernel.accessAllowed ? 'block' : 'none';\n",
              "\n",
              "        async function convertToInteractive(key) {\n",
              "          const element = document.querySelector('#df-81c71673-b311-4aaa-a224-cf8e734fb53e');\n",
              "          const dataTable =\n",
              "            await google.colab.kernel.invokeFunction('convertToInteractive',\n",
              "                                                     [key], {});\n",
              "          if (!dataTable) return;\n",
              "\n",
              "          const docLinkHtml = 'Like what you see? Visit the ' +\n",
              "            '<a target=\"_blank\" href=https://colab.research.google.com/notebooks/data_table.ipynb>data table notebook</a>'\n",
              "            + ' to learn more about interactive tables.';\n",
              "          element.innerHTML = '';\n",
              "          dataTable['output_type'] = 'display_data';\n",
              "          await google.colab.output.renderOutput(dataTable, element);\n",
              "          const docLink = document.createElement('div');\n",
              "          docLink.innerHTML = docLinkHtml;\n",
              "          element.appendChild(docLink);\n",
              "        }\n",
              "      </script>\n",
              "    </div>\n",
              "  </div>\n",
              "  "
            ]
          },
          "metadata": {},
          "execution_count": 55
        }
      ]
    },
    {
      "cell_type": "code",
      "metadata": {
        "id": "e9AzGcZFrIIr",
        "colab": {
          "base_uri": "https://localhost:8080/",
          "height": 354
        },
        "outputId": "1e5e58e0-de83-451e-f240-e2acf08028a5"
      },
      "source": [
        "# Previewing the bottom of our dataset\n",
        "# \n",
        "df.tail()"
      ],
      "execution_count": null,
      "outputs": [
        {
          "output_type": "execute_result",
          "data": {
            "text/plain": [
              "     PassengerId  Survived  Pclass                                      Name  \\\n",
              "886          887         0       2                     Montvila, Rev. Juozas   \n",
              "887          888         1       1              Graham, Miss. Margaret Edith   \n",
              "888          889         0       3  Johnston, Miss. Catherine Helen \"Carrie\"   \n",
              "889          890         1       1                     Behr, Mr. Karl Howell   \n",
              "890          891         0       3                       Dooley, Mr. Patrick   \n",
              "\n",
              "        Sex   Age  SibSp  Parch      Ticket   Fare Cabin Embarked  \n",
              "886    male  27.0      0      0      211536  13.00   NaN        S  \n",
              "887  female  19.0      0      0      112053  30.00   B42        S  \n",
              "888  female   NaN      1      2  W./C. 6607  23.45   NaN        S  \n",
              "889    male  26.0      0      0      111369  30.00  C148        C  \n",
              "890    male  32.0      0      0      370376   7.75   NaN        Q  "
            ],
            "text/html": [
              "\n",
              "  <div id=\"df-bc778c8b-9dfd-4850-9204-c5249f6fec6e\">\n",
              "    <div class=\"colab-df-container\">\n",
              "      <div>\n",
              "<style scoped>\n",
              "    .dataframe tbody tr th:only-of-type {\n",
              "        vertical-align: middle;\n",
              "    }\n",
              "\n",
              "    .dataframe tbody tr th {\n",
              "        vertical-align: top;\n",
              "    }\n",
              "\n",
              "    .dataframe thead th {\n",
              "        text-align: right;\n",
              "    }\n",
              "</style>\n",
              "<table border=\"1\" class=\"dataframe\">\n",
              "  <thead>\n",
              "    <tr style=\"text-align: right;\">\n",
              "      <th></th>\n",
              "      <th>PassengerId</th>\n",
              "      <th>Survived</th>\n",
              "      <th>Pclass</th>\n",
              "      <th>Name</th>\n",
              "      <th>Sex</th>\n",
              "      <th>Age</th>\n",
              "      <th>SibSp</th>\n",
              "      <th>Parch</th>\n",
              "      <th>Ticket</th>\n",
              "      <th>Fare</th>\n",
              "      <th>Cabin</th>\n",
              "      <th>Embarked</th>\n",
              "    </tr>\n",
              "  </thead>\n",
              "  <tbody>\n",
              "    <tr>\n",
              "      <th>886</th>\n",
              "      <td>887</td>\n",
              "      <td>0</td>\n",
              "      <td>2</td>\n",
              "      <td>Montvila, Rev. Juozas</td>\n",
              "      <td>male</td>\n",
              "      <td>27.0</td>\n",
              "      <td>0</td>\n",
              "      <td>0</td>\n",
              "      <td>211536</td>\n",
              "      <td>13.00</td>\n",
              "      <td>NaN</td>\n",
              "      <td>S</td>\n",
              "    </tr>\n",
              "    <tr>\n",
              "      <th>887</th>\n",
              "      <td>888</td>\n",
              "      <td>1</td>\n",
              "      <td>1</td>\n",
              "      <td>Graham, Miss. Margaret Edith</td>\n",
              "      <td>female</td>\n",
              "      <td>19.0</td>\n",
              "      <td>0</td>\n",
              "      <td>0</td>\n",
              "      <td>112053</td>\n",
              "      <td>30.00</td>\n",
              "      <td>B42</td>\n",
              "      <td>S</td>\n",
              "    </tr>\n",
              "    <tr>\n",
              "      <th>888</th>\n",
              "      <td>889</td>\n",
              "      <td>0</td>\n",
              "      <td>3</td>\n",
              "      <td>Johnston, Miss. Catherine Helen \"Carrie\"</td>\n",
              "      <td>female</td>\n",
              "      <td>NaN</td>\n",
              "      <td>1</td>\n",
              "      <td>2</td>\n",
              "      <td>W./C. 6607</td>\n",
              "      <td>23.45</td>\n",
              "      <td>NaN</td>\n",
              "      <td>S</td>\n",
              "    </tr>\n",
              "    <tr>\n",
              "      <th>889</th>\n",
              "      <td>890</td>\n",
              "      <td>1</td>\n",
              "      <td>1</td>\n",
              "      <td>Behr, Mr. Karl Howell</td>\n",
              "      <td>male</td>\n",
              "      <td>26.0</td>\n",
              "      <td>0</td>\n",
              "      <td>0</td>\n",
              "      <td>111369</td>\n",
              "      <td>30.00</td>\n",
              "      <td>C148</td>\n",
              "      <td>C</td>\n",
              "    </tr>\n",
              "    <tr>\n",
              "      <th>890</th>\n",
              "      <td>891</td>\n",
              "      <td>0</td>\n",
              "      <td>3</td>\n",
              "      <td>Dooley, Mr. Patrick</td>\n",
              "      <td>male</td>\n",
              "      <td>32.0</td>\n",
              "      <td>0</td>\n",
              "      <td>0</td>\n",
              "      <td>370376</td>\n",
              "      <td>7.75</td>\n",
              "      <td>NaN</td>\n",
              "      <td>Q</td>\n",
              "    </tr>\n",
              "  </tbody>\n",
              "</table>\n",
              "</div>\n",
              "      <button class=\"colab-df-convert\" onclick=\"convertToInteractive('df-bc778c8b-9dfd-4850-9204-c5249f6fec6e')\"\n",
              "              title=\"Convert this dataframe to an interactive table.\"\n",
              "              style=\"display:none;\">\n",
              "        \n",
              "  <svg xmlns=\"http://www.w3.org/2000/svg\" height=\"24px\"viewBox=\"0 0 24 24\"\n",
              "       width=\"24px\">\n",
              "    <path d=\"M0 0h24v24H0V0z\" fill=\"none\"/>\n",
              "    <path d=\"M18.56 5.44l.94 2.06.94-2.06 2.06-.94-2.06-.94-.94-2.06-.94 2.06-2.06.94zm-11 1L8.5 8.5l.94-2.06 2.06-.94-2.06-.94L8.5 2.5l-.94 2.06-2.06.94zm10 10l.94 2.06.94-2.06 2.06-.94-2.06-.94-.94-2.06-.94 2.06-2.06.94z\"/><path d=\"M17.41 7.96l-1.37-1.37c-.4-.4-.92-.59-1.43-.59-.52 0-1.04.2-1.43.59L10.3 9.45l-7.72 7.72c-.78.78-.78 2.05 0 2.83L4 21.41c.39.39.9.59 1.41.59.51 0 1.02-.2 1.41-.59l7.78-7.78 2.81-2.81c.8-.78.8-2.07 0-2.86zM5.41 20L4 18.59l7.72-7.72 1.47 1.35L5.41 20z\"/>\n",
              "  </svg>\n",
              "      </button>\n",
              "      \n",
              "  <style>\n",
              "    .colab-df-container {\n",
              "      display:flex;\n",
              "      flex-wrap:wrap;\n",
              "      gap: 12px;\n",
              "    }\n",
              "\n",
              "    .colab-df-convert {\n",
              "      background-color: #E8F0FE;\n",
              "      border: none;\n",
              "      border-radius: 50%;\n",
              "      cursor: pointer;\n",
              "      display: none;\n",
              "      fill: #1967D2;\n",
              "      height: 32px;\n",
              "      padding: 0 0 0 0;\n",
              "      width: 32px;\n",
              "    }\n",
              "\n",
              "    .colab-df-convert:hover {\n",
              "      background-color: #E2EBFA;\n",
              "      box-shadow: 0px 1px 2px rgba(60, 64, 67, 0.3), 0px 1px 3px 1px rgba(60, 64, 67, 0.15);\n",
              "      fill: #174EA6;\n",
              "    }\n",
              "\n",
              "    [theme=dark] .colab-df-convert {\n",
              "      background-color: #3B4455;\n",
              "      fill: #D2E3FC;\n",
              "    }\n",
              "\n",
              "    [theme=dark] .colab-df-convert:hover {\n",
              "      background-color: #434B5C;\n",
              "      box-shadow: 0px 1px 3px 1px rgba(0, 0, 0, 0.15);\n",
              "      filter: drop-shadow(0px 1px 2px rgba(0, 0, 0, 0.3));\n",
              "      fill: #FFFFFF;\n",
              "    }\n",
              "  </style>\n",
              "\n",
              "      <script>\n",
              "        const buttonEl =\n",
              "          document.querySelector('#df-bc778c8b-9dfd-4850-9204-c5249f6fec6e button.colab-df-convert');\n",
              "        buttonEl.style.display =\n",
              "          google.colab.kernel.accessAllowed ? 'block' : 'none';\n",
              "\n",
              "        async function convertToInteractive(key) {\n",
              "          const element = document.querySelector('#df-bc778c8b-9dfd-4850-9204-c5249f6fec6e');\n",
              "          const dataTable =\n",
              "            await google.colab.kernel.invokeFunction('convertToInteractive',\n",
              "                                                     [key], {});\n",
              "          if (!dataTable) return;\n",
              "\n",
              "          const docLinkHtml = 'Like what you see? Visit the ' +\n",
              "            '<a target=\"_blank\" href=https://colab.research.google.com/notebooks/data_table.ipynb>data table notebook</a>'\n",
              "            + ' to learn more about interactive tables.';\n",
              "          element.innerHTML = '';\n",
              "          dataTable['output_type'] = 'display_data';\n",
              "          await google.colab.output.renderOutput(dataTable, element);\n",
              "          const docLink = document.createElement('div');\n",
              "          docLink.innerHTML = docLinkHtml;\n",
              "          element.appendChild(docLink);\n",
              "        }\n",
              "      </script>\n",
              "    </div>\n",
              "  </div>\n",
              "  "
            ]
          },
          "metadata": {},
          "execution_count": 56
        }
      ]
    },
    {
      "cell_type": "code",
      "metadata": {
        "id": "n8-dW4sQWzbc",
        "colab": {
          "base_uri": "https://localhost:8080/"
        },
        "outputId": "8dbd469f-21f0-4798-c3a1-7a3a212ea376"
      },
      "source": [
        "# Checking datatype of each column\n",
        "#\n",
        "df.info()"
      ],
      "execution_count": null,
      "outputs": [
        {
          "output_type": "stream",
          "name": "stdout",
          "text": [
            "<class 'pandas.core.frame.DataFrame'>\n",
            "RangeIndex: 891 entries, 0 to 890\n",
            "Data columns (total 12 columns):\n",
            " #   Column       Non-Null Count  Dtype  \n",
            "---  ------       --------------  -----  \n",
            " 0   PassengerId  891 non-null    int64  \n",
            " 1   Survived     891 non-null    int64  \n",
            " 2   Pclass       891 non-null    int64  \n",
            " 3   Name         891 non-null    object \n",
            " 4   Sex          891 non-null    object \n",
            " 5   Age          714 non-null    float64\n",
            " 6   SibSp        891 non-null    int64  \n",
            " 7   Parch        891 non-null    int64  \n",
            " 8   Ticket       891 non-null    object \n",
            " 9   Fare         891 non-null    float64\n",
            " 10  Cabin        204 non-null    object \n",
            " 11  Embarked     889 non-null    object \n",
            "dtypes: float64(2), int64(5), object(5)\n",
            "memory usage: 83.7+ KB\n"
          ]
        }
      ]
    },
    {
      "cell_type": "code",
      "source": [
        "df.nunique()"
      ],
      "metadata": {
        "colab": {
          "base_uri": "https://localhost:8080/"
        },
        "id": "YThuVqqC-Ffj",
        "outputId": "7a653a86-26ca-4b6b-b58b-837e4f61f270"
      },
      "execution_count": null,
      "outputs": [
        {
          "output_type": "execute_result",
          "data": {
            "text/plain": [
              "PassengerId    891\n",
              "Survived         2\n",
              "Pclass           3\n",
              "Name           891\n",
              "Sex              2\n",
              "Age             88\n",
              "SibSp            7\n",
              "Parch            7\n",
              "Ticket         681\n",
              "Fare           248\n",
              "Cabin          147\n",
              "Embarked         3\n",
              "dtype: int64"
            ]
          },
          "metadata": {},
          "execution_count": 58
        }
      ]
    },
    {
      "cell_type": "markdown",
      "metadata": {
        "id": "FlBMxEDBUc9B"
      },
      "source": [
        "## Tidying the Dataset"
      ]
    },
    {
      "cell_type": "code",
      "source": [
        "# dropping unnecessary columns\n",
        "#dropping passenger id and name because those are unique for each record. the ticket column\n",
        "#also isnt necessary\n",
        "df.drop(columns = ['PassengerId', 'Name', 'Ticket'], inplace=True)"
      ],
      "metadata": {
        "id": "0eY1ent1e19e"
      },
      "execution_count": null,
      "outputs": []
    },
    {
      "cell_type": "code",
      "metadata": {
        "id": "PvCYb6dgW4yh",
        "colab": {
          "base_uri": "https://localhost:8080/"
        },
        "outputId": "53662240-245c-46d4-dd64-8eead8fbea40"
      },
      "source": [
        "# Checking for missing values\n",
        "#\n",
        "df.isnull().sum()\n",
        "#Age had 177 missing values, cabin 687, and embarked 2 missing values"
      ],
      "execution_count": null,
      "outputs": [
        {
          "output_type": "execute_result",
          "data": {
            "text/plain": [
              "Survived      0\n",
              "Pclass        0\n",
              "Sex           0\n",
              "Age         177\n",
              "SibSp         0\n",
              "Parch         0\n",
              "Fare          0\n",
              "Cabin       687\n",
              "Embarked      2\n",
              "dtype: int64"
            ]
          },
          "metadata": {},
          "execution_count": 60
        }
      ]
    },
    {
      "cell_type": "code",
      "source": [
        "df.shape"
      ],
      "metadata": {
        "colab": {
          "base_uri": "https://localhost:8080/"
        },
        "id": "rTREu08K-1v5",
        "outputId": "5da40b8e-9142-495e-8811-517cb8ea72bb"
      },
      "execution_count": null,
      "outputs": [
        {
          "output_type": "execute_result",
          "data": {
            "text/plain": [
              "(891, 9)"
            ]
          },
          "metadata": {},
          "execution_count": 61
        }
      ]
    },
    {
      "cell_type": "code",
      "source": [
        "#cabin has more than 3/4 of the values missing so the column will be dropped\n",
        "df.drop(columns='Cabin', inplace=True)"
      ],
      "metadata": {
        "id": "PeBYX5SN_oeD"
      },
      "execution_count": null,
      "outputs": []
    },
    {
      "cell_type": "code",
      "source": [
        "#age has missing values\n",
        "#age and class may be related. \n",
        "\n",
        "print(df.groupby(['Pclass'])['Age'].mean())\n",
        "#the older, more likely to be in a higher class"
      ],
      "metadata": {
        "colab": {
          "base_uri": "https://localhost:8080/"
        },
        "id": "5Xzy_zUsFNcl",
        "outputId": "ac31853e-d512-42f8-ab86-f8c2b91cac7b"
      },
      "execution_count": null,
      "outputs": [
        {
          "output_type": "stream",
          "name": "stdout",
          "text": [
            "Pclass\n",
            "1    38.233441\n",
            "2    29.877630\n",
            "3    25.140620\n",
            "Name: Age, dtype: float64\n"
          ]
        }
      ]
    },
    {
      "cell_type": "code",
      "source": [
        "\n",
        "#will fill in missing values for age according to the avegare age in the class\n",
        "#the passsenger is in\n",
        "\n",
        "def age_est(cols):\n",
        "    age = cols[1]\n",
        "    pclass = cols[0]\n",
        "    \n",
        "    if pd.isnull(age):\n",
        "        if pclass == 1:\n",
        "            return 38\n",
        "        elif pclass == 2:\n",
        "            return 29\n",
        "        else:\n",
        "            return 25\n",
        "    else:\n",
        "        return age\n",
        "\n",
        "df['Age'] = df[['Pclass', 'Age']].apply(lambda cols: age_est(cols), axis=1)"
      ],
      "metadata": {
        "id": "pu4OjwqFF119"
      },
      "execution_count": null,
      "outputs": []
    },
    {
      "cell_type": "code",
      "source": [
        "df.isnull().sum()"
      ],
      "metadata": {
        "colab": {
          "base_uri": "https://localhost:8080/"
        },
        "id": "ekd7hGc6IAkq",
        "outputId": "911ab018-1ef5-4233-8fd6-57bd43ca2026"
      },
      "execution_count": null,
      "outputs": [
        {
          "output_type": "execute_result",
          "data": {
            "text/plain": [
              "Survived    0\n",
              "Pclass      0\n",
              "Sex         0\n",
              "Age         0\n",
              "SibSp       0\n",
              "Parch       0\n",
              "Fare        0\n",
              "Embarked    2\n",
              "dtype: int64"
            ]
          },
          "metadata": {},
          "execution_count": 65
        }
      ]
    },
    {
      "cell_type": "code",
      "source": [
        "#dropping records with embarked as null\n",
        "df.dropna(how='any', inplace=True)"
      ],
      "metadata": {
        "id": "wJ4M0UK5Is0N"
      },
      "execution_count": null,
      "outputs": []
    },
    {
      "cell_type": "code",
      "source": [
        "df.isnull().sum()\n",
        "#no more missing values"
      ],
      "metadata": {
        "colab": {
          "base_uri": "https://localhost:8080/"
        },
        "id": "cHIxMkDvJCWQ",
        "outputId": "f1724d8c-677d-4d8e-d17d-ff8aedad09c3"
      },
      "execution_count": null,
      "outputs": [
        {
          "output_type": "execute_result",
          "data": {
            "text/plain": [
              "Survived    0\n",
              "Pclass      0\n",
              "Sex         0\n",
              "Age         0\n",
              "SibSp       0\n",
              "Parch       0\n",
              "Fare        0\n",
              "Embarked    0\n",
              "dtype: int64"
            ]
          },
          "metadata": {},
          "execution_count": 67
        }
      ]
    },
    {
      "cell_type": "code",
      "source": [
        "df.dtypes"
      ],
      "metadata": {
        "colab": {
          "base_uri": "https://localhost:8080/"
        },
        "id": "UWo1Y0pVJIyH",
        "outputId": "5f50f5f0-e637-4ee7-b556-179e0d77d29f"
      },
      "execution_count": null,
      "outputs": [
        {
          "output_type": "execute_result",
          "data": {
            "text/plain": [
              "Survived      int64\n",
              "Pclass        int64\n",
              "Sex          object\n",
              "Age         float64\n",
              "SibSp         int64\n",
              "Parch         int64\n",
              "Fare        float64\n",
              "Embarked     object\n",
              "dtype: object"
            ]
          },
          "metadata": {},
          "execution_count": 68
        }
      ]
    },
    {
      "cell_type": "code",
      "source": [
        "# Survived \n",
        "# Pclass - passenger's class on the boat \n",
        "# Sex - passenger's gender \n",
        "# Age - person's age \n",
        "# SibSp - the number of relatives on the boat (that are siblings or a spouse) \n",
        "# Parch - the number of relatives on the boat (that are children or parents)\n",
        "# Fare - fare a person paid \n",
        "# Embarked -a person's point of embarking\n",
        "cat = ['Survived', 'Sex', 'Embarked']\n",
        "num = []\n",
        "\n",
        "for col in df.columns:\n",
        "  if col not in cat:\n",
        "    num.append(col)\n",
        "num"
      ],
      "metadata": {
        "colab": {
          "base_uri": "https://localhost:8080/"
        },
        "id": "067q_AfbJSSd",
        "outputId": "a154f7d0-1198-4a9f-e6c5-e3ece68c6bc7"
      },
      "execution_count": null,
      "outputs": [
        {
          "output_type": "execute_result",
          "data": {
            "text/plain": [
              "['Pclass', 'Age', 'SibSp', 'Parch', 'Fare']"
            ]
          },
          "metadata": {},
          "execution_count": 69
        }
      ]
    },
    {
      "cell_type": "code",
      "metadata": {
        "id": "5o_bQcT5W3Wz",
        "colab": {
          "base_uri": "https://localhost:8080/",
          "height": 1000
        },
        "outputId": "333f5ceb-3c33-4271-ba02-fd8d0a439cd4"
      },
      "source": [
        "# Checking for outliers and anomalies\n",
        "#for originally numerical data,\n",
        "\n",
        "\n",
        "for col in num:\n",
        "  df.boxplot(col, grid=False)\n",
        "  plt.title(col)\n",
        "  plt.gcf().set_size_inches(6,6)\n",
        "  plt.show()\n",
        "  print('****************************************************')"
      ],
      "execution_count": null,
      "outputs": [
        {
          "output_type": "display_data",
          "data": {
            "text/plain": [
              "<Figure size 432x432 with 1 Axes>"
            ],
            "image/png": "[encoded data removed]"
          },
          "metadata": {
            "needs_background": "light"
          }
        },
        {
          "output_type": "stream",
          "name": "stdout",
          "text": [
            "****************************************************\n"
          ]
        },
        {
          "output_type": "display_data",
          "data": {
            "text/plain": [
              "<Figure size 432x432 with 1 Axes>"
            ],
            "image/png": "[encoded data removed]"
          },
          "metadata": {
            "needs_background": "light"
          }
        },
        {
          "output_type": "stream",
          "name": "stdout",
          "text": [
            "****************************************************\n"
          ]
        },
        {
          "output_type": "display_data",
          "data": {
            "text/plain": [
              "<Figure size 432x432 with 1 Axes>"
            ],
            "image/png": "[encoded data removed]"
          },
          "metadata": {
            "needs_background": "light"
          }
        },
        {
          "output_type": "stream",
          "name": "stdout",
          "text": [
            "****************************************************\n"
          ]
        },
        {
          "output_type": "display_data",
          "data": {
            "text/plain": [
              "<Figure size 432x432 with 1 Axes>"
            ],
            "image/png": "[encoded data removed]"
          },
          "metadata": {
            "needs_background": "light"
          }
        },
        {
          "output_type": "stream",
          "name": "stdout",
          "text": [
            "****************************************************\n"
          ]
        },
        {
          "output_type": "display_data",
          "data": {
            "text/plain": [
              "<Figure size 432x432 with 1 Axes>"
            ],
            "image/png": "[encoded data removed]"
          },
          "metadata": {
            "needs_background": "light"
          }
        },
        {
          "output_type": "stream",
          "name": "stdout",
          "text": [
            "****************************************************\n"
          ]
        }
      ]
    },
    {
      "cell_type": "markdown",
      "source": [
        "* No outliers in pclass\n",
        "* Some outliers in age - expected that some passengers were older than average so won’t be dropped\n",
        "* Number of relatives that are siblings/spouse - some outliers. Expected that some families had many members travelling together so won’t drop them.\n",
        "* Number of relatives that are parents/children - some outliers. Expected that some passengers had more than usual family members travelling together so won’t drop them.\n",
        "* Fare - outliers. Expected that some passengers paid higher fees than most so won’t drop outliers."
      ],
      "metadata": {
        "id": "GRcHb3UWxTAh"
      }
    },
    {
      "cell_type": "code",
      "source": [
        "#checking for anomalies in columns representing categorical information\n",
        "for col in cat:\n",
        "  print(f'{col}:')\n",
        "  print(df[col].unique())\n",
        "  print('******************************************************************')\n",
        "#no anomalies identified"
      ],
      "metadata": {
        "colab": {
          "base_uri": "https://localhost:8080/"
        },
        "id": "xraAdzXeDBxW",
        "outputId": "78d34b61-fc4b-4dda-8561-d2d686e2d5d7"
      },
      "execution_count": null,
      "outputs": [
        {
          "output_type": "stream",
          "name": "stdout",
          "text": [
            "Survived:\n",
            "[0 1]\n",
            "******************************************************************\n",
            "Sex:\n",
            "['male' 'female']\n",
            "******************************************************************\n",
            "Embarked:\n",
            "['S' 'C' 'Q']\n",
            "******************************************************************\n"
          ]
        }
      ]
    },
    {
      "cell_type": "code",
      "source": [
        "#Checking for duplicates\n",
        "df.duplicated().sum()\n",
        "#wont drop duplicates. the column dropped earlier for passeneger id had\n",
        "#unique values for each record. it is possible for passengers to have similar\n",
        "#data in the columns we have now"
      ],
      "metadata": {
        "colab": {
          "base_uri": "https://localhost:8080/"
        },
        "id": "_cWQeTaJyHBv",
        "outputId": "b14fcacd-e4d4-4e1b-def0-8e6fc170eaea"
      },
      "execution_count": null,
      "outputs": [
        {
          "output_type": "execute_result",
          "data": {
            "text/plain": [
              "116"
            ]
          },
          "metadata": {},
          "execution_count": 72
        }
      ]
    },
    {
      "cell_type": "markdown",
      "source": [
        "## Univariate Analysis"
      ],
      "metadata": {
        "id": "VuKRQ70jyO7t"
      }
    },
    {
      "cell_type": "code",
      "source": [
        "df.columns"
      ],
      "metadata": {
        "colab": {
          "base_uri": "https://localhost:8080/"
        },
        "id": "HzHBvIGCLTPE",
        "outputId": "0ae4002a-cf32-42d0-ee6e-50810af33af4"
      },
      "execution_count": null,
      "outputs": [
        {
          "output_type": "execute_result",
          "data": {
            "text/plain": [
              "Index(['Survived', 'Pclass', 'Sex', 'Age', 'SibSp', 'Parch', 'Fare',\n",
              "       'Embarked'],\n",
              "      dtype='object')"
            ]
          },
          "metadata": {},
          "execution_count": 73
        }
      ]
    },
    {
      "cell_type": "code",
      "source": [
        "# Countplots for columns except age and fare\n",
        "for col in df.drop(columns=['Age', 'Fare']).columns:\n",
        "    df[col].value_counts().plot.bar(title=col)\n",
        "    plt.show()\n",
        "    print('')\n",
        " "
      ],
      "metadata": {
        "colab": {
          "base_uri": "https://localhost:8080/",
          "height": 1000
        },
        "id": "DGWZWP3jPwu0",
        "outputId": "63210c3f-7228-420d-a888-612534ce4037"
      },
      "execution_count": null,
      "outputs": [
        {
          "output_type": "display_data",
          "data": {
            "text/plain": [
              "<Figure size 432x288 with 1 Axes>"
            ],
            "image/png": "[encoded data removed]"
          },
          "metadata": {
            "needs_background": "light"
          }
        },
        {
          "output_type": "stream",
          "name": "stdout",
          "text": [
            "\n"
          ]
        },
        {
          "output_type": "display_data",
          "data": {
            "text/plain": [
              "<Figure size 432x288 with 1 Axes>"
            ],
            "image/png": "[encoded data removed]"
          },
          "metadata": {
            "needs_background": "light"
          }
        },
        {
          "output_type": "stream",
          "name": "stdout",
          "text": [
            "\n"
          ]
        },
        {
          "output_type": "display_data",
          "data": {
            "text/plain": [
              "<Figure size 432x288 with 1 Axes>"
            ],
            "image/png": "[encoded data removed]"
          },
          "metadata": {
            "needs_background": "light"
          }
        },
        {
          "output_type": "stream",
          "name": "stdout",
          "text": [
            "\n"
          ]
        },
        {
          "output_type": "display_data",
          "data": {
            "text/plain": [
              "<Figure size 432x288 with 1 Axes>"
            ],
            "image/png": "[encoded data removed]"
          },
          "metadata": {
            "needs_background": "light"
          }
        },
        {
          "output_type": "stream",
          "name": "stdout",
          "text": [
            "\n"
          ]
        },
        {
          "output_type": "display_data",
          "data": {
            "text/plain": [
              "<Figure size 432x288 with 1 Axes>"
            ],
            "image/png": "[encoded data removed]"
          },
          "metadata": {
            "needs_background": "light"
          }
        },
        {
          "output_type": "stream",
          "name": "stdout",
          "text": [
            "\n"
          ]
        },
        {
          "output_type": "display_data",
          "data": {
            "text/plain": [
              "<Figure size 432x288 with 1 Axes>"
            ],
            "image/png": "[encoded data removed]"
          },
          "metadata": {
            "needs_background": "light"
          }
        },
        {
          "output_type": "stream",
          "name": "stdout",
          "text": [
            "\n"
          ]
        }
      ]
    },
    {
      "cell_type": "markdown",
      "source": [
        "\n",
        "* A higher number of passengers didn’t survive compared to the number of those who did.\n",
        "* Most passengers were in third class.\n",
        "* Most passengers were male.\n",
        "* Most passengers had no siblings or spouses aboard.\n",
        "* Most passengers had no parents or children aboard.\n",
        "* Most passengers embarked at point ‘S’"
      ],
      "metadata": {
        "id": "uY0tTf7lUN70"
      }
    },
    {
      "cell_type": "code",
      "source": [
        "# descriptive statistics continuous data\n",
        "cols = ['Age', 'Fare']\n",
        "for col in cols:\n",
        "  print(f'\\n{col}:')\n",
        "  print('')\n",
        "  print(df[col].describe())\n",
        "  print('**************************************')"
      ],
      "metadata": {
        "colab": {
          "base_uri": "https://localhost:8080/"
        },
        "id": "ZkWDwENJqQgU",
        "outputId": "2384c188-b0b0-42bc-91e7-42e5c3119d9e"
      },
      "execution_count": null,
      "outputs": [
        {
          "output_type": "stream",
          "name": "stdout",
          "text": [
            "\n",
            "Age:\n",
            "\n",
            "count    889.000000\n",
            "mean      29.206040\n",
            "std       13.177747\n",
            "min        0.420000\n",
            "25%       22.000000\n",
            "50%       26.000000\n",
            "75%       36.500000\n",
            "max       80.000000\n",
            "Name: Age, dtype: float64\n",
            "**************************************\n",
            "\n",
            "Fare:\n",
            "\n",
            "count    889.000000\n",
            "mean      32.096681\n",
            "std       49.697504\n",
            "min        0.000000\n",
            "25%        7.895800\n",
            "50%       14.454200\n",
            "75%       31.000000\n",
            "max      512.329200\n",
            "Name: Fare, dtype: float64\n",
            "**************************************\n"
          ]
        }
      ]
    },
    {
      "cell_type": "code",
      "source": [
        "#plotting histograms for continuous\n",
        "\n",
        "for col in cols:\n",
        "  (n, bins, patches) = plt.hist(df[col], bins= 10, rwidth=0.9)\n",
        "\n",
        "  plt.title(f'Histogram of {col}.')\n",
        "  plt.xlabel(f'{col}')\n",
        "  plt.ylabel('Frequency')\n",
        "  plt.show()\n",
        "  #creating a dataframe with the values of bin edges\n",
        "  df_hist = pd.DataFrame(data=n, columns=['bin_values'])\n",
        "  df_hist['left_bin_edge'] = bins[0:-1]\n",
        "  df_hist\n",
        "  last = {\n",
        "    'bin_values': 0,\n",
        "    'left_bin_edge': bins[-1]\n",
        "  }\n",
        "  df_hist = df_hist.append(last, ignore_index=True)\n",
        "  #looping through dataframe above to identify bins with most frequency and the respective bin edges \n",
        "  for i in df_hist.index:\n",
        "    if df_hist.loc[i, 'bin_values'] == df_hist['bin_values'].max():\n",
        "      left_edge =  df_hist.loc[i, 'left_bin_edge']\n",
        "      right_lim = df_hist.loc[i+1, 'left_bin_edge']\n",
        "      if col == 'Age':\n",
        "        print(f'Most passengers were aged between { int(left_edge)} and {int(right_lim)}')\n",
        "\n",
        "      else:\n",
        "        print(f'Most {col} values fell within the range of { round(left_edge,2)} to {round(right_lim,2)}')\n",
        "\n",
        "  print('')"
      ],
      "metadata": {
        "colab": {
          "base_uri": "https://localhost:8080/",
          "height": 642
        },
        "id": "wW8dC6BQ6erQ",
        "outputId": "6d3dc02c-2032-4537-ab6e-1eb4a2f9b740"
      },
      "execution_count": null,
      "outputs": [
        {
          "output_type": "display_data",
          "data": {
            "text/plain": [
              "<Figure size 432x288 with 1 Axes>"
            ],
            "image/png": "[encoded data removed]"
          },
          "metadata": {
            "needs_background": "light"
          }
        },
        {
          "output_type": "stream",
          "name": "stdout",
          "text": [
            "Most passengers were aged between 24 and 32\n",
            "\n"
          ]
        },
        {
          "output_type": "display_data",
          "data": {
            "text/plain": [
              "<Figure size 432x288 with 1 Axes>"
            ],
            "image/png": "[encoded data removed]"
          },
          "metadata": {
            "needs_background": "light"
          }
        },
        {
          "output_type": "stream",
          "name": "stdout",
          "text": [
            "Most Fare values fell within the range of 0.0 to 51.23\n",
            "\n"
          ]
        }
      ]
    },
    {
      "cell_type": "markdown",
      "source": [
        "## Bivariate Analysis"
      ],
      "metadata": {
        "id": "ey4l6LDvyOEd"
      }
    },
    {
      "cell_type": "code",
      "source": [
        "#plotting how average price varies according to the different categorical and discrete variables\n",
        "for col in df.drop(columns=['Age', 'Fare', 'Survived']).columns:\n",
        "\n",
        "  sns.countplot(x=col, hue = 'Survived', data=df)\n",
        "  plt.title(f'Survival by {col}')\n",
        "  plt.gcf().set_size_inches(8, 6)\n",
        "  plt.show()"
      ],
      "metadata": {
        "colab": {
          "base_uri": "https://localhost:8080/"
        },
        "id": "a3kdQWao3Q5d",
        "outputId": "55391497-3dd3-4119-8317-fb52a7a86528"
      },
      "execution_count": null,
      "outputs": [
        {
          "output_type": "display_data",
          "data": {
            "text/plain": [
              "<Figure size 576x432 with 1 Axes>"
            ],
            "image/png": "[encoded data removed]"
          },
          "metadata": {
            "needs_background": "light"
          }
        },
        {
          "output_type": "display_data",
          "data": {
            "text/plain": [
              "<Figure size 576x432 with 1 Axes>"
            ],
            "image/png": "[encoded data removed]"
          },
          "metadata": {
            "needs_background": "light"
          }
        },
        {
          "output_type": "display_data",
          "data": {
            "text/plain": [
              "<Figure size 576x432 with 1 Axes>"
            ],
            "image/png": "[encoded data removed]"
          },
          "metadata": {
            "needs_background": "light"
          }
        },
        {
          "output_type": "display_data",
          "data": {
            "text/plain": [
              "<Figure size 576x432 with 1 Axes>"
            ],
            "image/png": "[encoded data removed]"
          },
          "metadata": {
            "needs_background": "light"
          }
        },
        {
          "output_type": "display_data",
          "data": {
            "text/plain": [
              "<Figure size 576x432 with 1 Axes>"
            ],
            "image/png": "[encoded data removed]"
          },
          "metadata": {
            "needs_background": "light"
          }
        }
      ]
    },
    {
      "cell_type": "markdown",
      "source": [
        "* Most passengers in first class survived. Most in second and third class didn’t survive, with the highest proportion of not surviving in third class.\n",
        "* Most female passengers survived while most male passengers did not survive.\n",
        "* For those with no siblings or spouses aboard, most did not survive. For those with one sibling/spouse aboard, a higher number survived than those who didn’t. For those with 2-8 siblings/spouses aboard - most did not survive.\n",
        "* For those with no parents or children aboard, most did not survive. For those with one parent/child aboard, a higher number survived than those who didn’t. For those with 2 parents/children aboard, a the proportions of surviving and not surviving were equal. For those with 3-6 parents/children aboard - most did not survive.\n",
        "* Most passengers who embarked at points S and Q didn’t survive. Most passengers who embarked at point C survived."
      ],
      "metadata": {
        "id": "PsxVONRA43Ck"
      }
    },
    {
      "cell_type": "code",
      "source": [
        "# continuous \n",
        "df.groupby(['Survived'])['Age'].mean().plot.bar()\n",
        "plt.title('Average age per Survival Status')\n",
        "plt.ylabel('Age')\n",
        "plt.show()\n",
        "\n",
        "df.groupby(['Survived'])['Fare'].mean().plot.bar()\n",
        "plt.title('Average fare per Survival Status')\n",
        "plt.ylabel('Fare')\n",
        "plt.show()"
      ],
      "metadata": {
        "colab": {
          "base_uri": "https://localhost:8080/"
        },
        "id": "z2VI3yKVuN2-",
        "outputId": "b1766d22-7da2-4cff-f91a-aafde837ce53"
      },
      "execution_count": null,
      "outputs": [
        {
          "output_type": "display_data",
          "data": {
            "text/plain": [
              "<Figure size 432x288 with 1 Axes>"
            ],
            "image/png": "[encoded data removed]"
          },
          "metadata": {
            "needs_background": "light"
          }
        },
        {
          "output_type": "display_data",
          "data": {
            "text/plain": [
              "<Figure size 432x288 with 1 Axes>"
            ],
            "image/png": "[encoded data removed]"
          },
          "metadata": {
            "needs_background": "light"
          }
        }
      ]
    },
    {
      "cell_type": "markdown",
      "source": [
        "* The average age of those who survived was slightly lower than the average age of those who did not survive.\n",
        "\n",
        "* The average fare paid of those who survived was higher than the average fare paid of those who did not survive."
      ],
      "metadata": {
        "id": "Oh09HpsVVnhV"
      }
    },
    {
      "cell_type": "code",
      "source": [
        "cat[1:]"
      ],
      "metadata": {
        "colab": {
          "base_uri": "https://localhost:8080/"
        },
        "id": "7RBrEC5nWEqT",
        "outputId": "46a52fd1-2bdc-484b-d223-85e6be713824"
      },
      "execution_count": null,
      "outputs": [
        {
          "output_type": "execute_result",
          "data": {
            "text/plain": [
              "['Sex', 'Embarked']"
            ]
          },
          "metadata": {},
          "execution_count": 79
        }
      ]
    },
    {
      "cell_type": "code",
      "source": [
        "df.dtypes"
      ],
      "metadata": {
        "colab": {
          "base_uri": "https://localhost:8080/"
        },
        "id": "iL4apKebWQI1",
        "outputId": "1297221c-2047-4ab6-fcba-d48d402ff97d"
      },
      "execution_count": null,
      "outputs": [
        {
          "output_type": "execute_result",
          "data": {
            "text/plain": [
              "Survived      int64\n",
              "Pclass        int64\n",
              "Sex          object\n",
              "Age         float64\n",
              "SibSp         int64\n",
              "Parch         int64\n",
              "Fare        float64\n",
              "Embarked     object\n",
              "dtype: object"
            ]
          },
          "metadata": {},
          "execution_count": 80
        }
      ]
    },
    {
      "cell_type": "code",
      "source": [
        "#encoding the categorical columns for further analysis\n",
        "enc = LabelEncoder()\n",
        "cols = ['Sex', 'Embarked']\n",
        "for col in cols:\n",
        "  df[col] = enc.fit_transform(df[col])"
      ],
      "metadata": {
        "id": "vH8PGRzoV7E3"
      },
      "execution_count": null,
      "outputs": []
    },
    {
      "cell_type": "code",
      "source": [
        "#correlation heat map\n",
        "sns.heatmap(df.corr(),annot=True)\n",
        "plt.gcf().set_size_inches(15,6)\n",
        "plt.show()"
      ],
      "metadata": {
        "colab": {
          "base_uri": "https://localhost:8080/"
        },
        "id": "CvhdJjK3yUCP",
        "outputId": "abb971e5-0fef-4ead-f808-e4387228c3cd"
      },
      "execution_count": null,
      "outputs": [
        {
          "output_type": "display_data",
          "data": {
            "text/plain": [
              "<Figure size 1080x432 with 2 Axes>"
            ],
            "image/png": "[encoded data removed]"
          },
          "metadata": {
            "needs_background": "light"
          }
        }
      ]
    },
    {
      "cell_type": "markdown",
      "source": [
        "Survived is the target column of interest. According to the absolute correlation values, it has the strongest correlation to sex, followed by Pclass, then fare."
      ],
      "metadata": {
        "id": "1Ho8w2qs_XuR"
      }
    },
    {
      "cell_type": "markdown",
      "metadata": {
        "id": "Eua_3N4gyWqi"
      },
      "source": [
        "## Modelling (KNN)"
      ]
    },
    {
      "cell_type": "markdown",
      "source": [
        "Modelling will be done using K-Nearest-Neighbours"
      ],
      "metadata": {
        "id": "UqYGoXZydreq"
      }
    },
    {
      "cell_type": "markdown",
      "source": [
        "### Data Preparation Summary"
      ],
      "metadata": {
        "id": "RA8_FU4id4eo"
      }
    },
    {
      "cell_type": "markdown",
      "source": [
        "Cleaning/Preparation summary:\n",
        "* Unnecessary features - passengerid, name and ticket, were dropped because these were more of unique identifiers for each record.\n",
        "* Missing values were checked for and found in the age, cabin and embarked columns.\n",
        "* The cabin column was dropped because > 3/4 of the values were missing\n",
        "* The missing values in age were dealt with by first getting the average age in each passenger class (showed a pattern of the higher the class the higher the age). A function was created that would check the class of each passenger and if age was missing, would input the respective average age of the class.\n",
        "* The records with embarked feature as null were dropped (2).\n",
        "* Outliers and anomalies were checked for. No anomalies were found, and the outliers found were within expected ranges so were kept.\n",
        "* After univariate and some bivariate analysis, the categorical columns were label encoded"
      ],
      "metadata": {
        "id": "lrLMLvb1XyRr"
      }
    },
    {
      "cell_type": "markdown",
      "source": [
        "* The features will be scaled before fitting the model."
      ],
      "metadata": {
        "id": "3S9K56rfiowX"
      }
    },
    {
      "cell_type": "code",
      "source": [
        "accuracies = []"
      ],
      "metadata": {
        "id": "QZG9YKEuiEXm"
      },
      "execution_count": null,
      "outputs": []
    },
    {
      "cell_type": "markdown",
      "metadata": {
        "id": "mcoN0JySDCAA"
      },
      "source": [
        "### 80-20 split"
      ]
    },
    {
      "cell_type": "code",
      "source": [
        "df.columns"
      ],
      "metadata": {
        "colab": {
          "base_uri": "https://localhost:8080/"
        },
        "id": "DHs6sEgVdZjl",
        "outputId": "15945dab-d47b-4e84-e50e-b757216f2d36"
      },
      "execution_count": null,
      "outputs": [
        {
          "output_type": "execute_result",
          "data": {
            "text/plain": [
              "Index(['Survived', 'Pclass', 'Sex', 'Age', 'SibSp', 'Parch', 'Fare',\n",
              "       'Embarked'],\n",
              "      dtype='object')"
            ]
          },
          "metadata": {},
          "execution_count": 84
        }
      ]
    },
    {
      "cell_type": "code",
      "source": [
        "# separating features and label\n",
        "\n",
        "# \n",
        "X = df.drop('Survived', axis=1)\n",
        "y = df['Survived']\n",
        "\n",
        "#Feature scaling\n",
        "from sklearn.preprocessing import StandardScaler\n",
        "sc = StandardScaler()\n",
        "X = sc.fit_transform(X)"
      ],
      "metadata": {
        "id": "y3Em_q97gkJN"
      },
      "execution_count": null,
      "outputs": []
    },
    {
      "cell_type": "code",
      "source": [
        "#splitting into test and train (80-20)\n",
        "from sklearn.model_selection import train_test_split\n",
        "X_train, X_test, y_train, y_test = train_test_split(X, y, test_size=0.20, random_state=0)\n",
        "\n",
        "# Training and Predictions\n",
        "from sklearn.neighbors import KNeighborsClassifier\n",
        "classifier = KNeighborsClassifier(n_neighbors=5)\n",
        "classifier.fit(X_train, y_train)\n",
        "\n",
        "y_pred = classifier.predict(X_test)\n",
        "\n",
        "# Evaluating the model\n",
        "accuracy = metrics.accuracy_score(y_test, y_pred)\n",
        "accuracies.append(['80-20: Accuracy ', accuracy, 'f1 (+ve class): ', metrics.f1_score(y_test, y_pred)])\n",
        "print('Accuracy score: ', accuracy)\n",
        "print(metrics.confusion_matrix(y_test, y_pred))\n",
        "metrics.ConfusionMatrixDisplay.from_predictions(y_test, y_pred, display_labels=['no', 'yes'])\n",
        "plt.show()\n",
        "print(metrics.classification_report(y_test, y_pred))"
      ],
      "metadata": {
        "colab": {
          "base_uri": "https://localhost:8080/",
          "height": 487
        },
        "id": "wJ6OAFyxa8ia",
        "outputId": "29d24014-5935-49c2-9998-392f5d371080"
      },
      "execution_count": null,
      "outputs": [
        {
          "output_type": "stream",
          "name": "stdout",
          "text": [
            "Accuracy score:  0.7134831460674157\n",
            "[[85 20]\n",
            " [31 42]]\n"
          ]
        },
        {
          "output_type": "display_data",
          "data": {
            "text/plain": [
              "<Figure size 432x288 with 2 Axes>"
            ],
            "image/png": "[encoded data removed]"
          },
          "metadata": {
            "needs_background": "light"
          }
        },
        {
          "output_type": "stream",
          "name": "stdout",
          "text": [
            "              precision    recall  f1-score   support\n",
            "\n",
            "           0       0.73      0.81      0.77       105\n",
            "           1       0.68      0.58      0.62        73\n",
            "\n",
            "    accuracy                           0.71       178\n",
            "   macro avg       0.71      0.69      0.70       178\n",
            "weighted avg       0.71      0.71      0.71       178\n",
            "\n"
          ]
        }
      ]
    },
    {
      "cell_type": "markdown",
      "source": [
        "* true positives-42\n",
        "* false negatives - 31\n",
        "* true negatives - 85\n",
        "* false positives - 20"
      ],
      "metadata": {
        "id": "Bn0qxVWcMFn-"
      }
    },
    {
      "cell_type": "markdown",
      "metadata": {
        "id": "6wU_0CaeDSES"
      },
      "source": [
        "### 70-30 split"
      ]
    },
    {
      "cell_type": "code",
      "source": [
        "#splitting into test and train (70-30)\n",
        "from sklearn.model_selection import train_test_split\n",
        "X_train, X_test, y_train, y_test = train_test_split(X, y, test_size=0.30, random_state=0)\n",
        "\n",
        "# Training and Predictions\n",
        "from sklearn.neighbors import KNeighborsClassifier\n",
        "classifier = KNeighborsClassifier(n_neighbors=5)\n",
        "classifier.fit(X_train, y_train)\n",
        "\n",
        "y_pred = classifier.predict(X_test)\n",
        "\n",
        "# Evaluating the model\n",
        "accuracy = metrics.accuracy_score(y_test, y_pred)\n",
        "accuracies.append(['70-30: Accuracy ', accuracy, 'f1 (+ve class): ', metrics.f1_score(y_test, y_pred)])\n",
        "print('Accuracy score: ', accuracy)\n",
        "print(metrics.confusion_matrix(y_test, y_pred))\n",
        "metrics.ConfusionMatrixDisplay.from_predictions(y_test, y_pred, display_labels=['no', 'yes'])\n",
        "plt.show()\n",
        "print(metrics.classification_report(y_test, y_pred))"
      ],
      "metadata": {
        "colab": {
          "base_uri": "https://localhost:8080/",
          "height": 487
        },
        "id": "KqU_bWAyjEFd",
        "outputId": "e4fff666-a648-4974-c868-3356785800ff"
      },
      "execution_count": null,
      "outputs": [
        {
          "output_type": "stream",
          "name": "stdout",
          "text": [
            "Accuracy score:  0.7715355805243446\n",
            "[[135  22]\n",
            " [ 39  71]]\n"
          ]
        },
        {
          "output_type": "display_data",
          "data": {
            "text/plain": [
              "<Figure size 432x288 with 2 Axes>"
            ],
            "image/png": "[encoded data removed]"
          },
          "metadata": {
            "needs_background": "light"
          }
        },
        {
          "output_type": "stream",
          "name": "stdout",
          "text": [
            "              precision    recall  f1-score   support\n",
            "\n",
            "           0       0.78      0.86      0.82       157\n",
            "           1       0.76      0.65      0.70       110\n",
            "\n",
            "    accuracy                           0.77       267\n",
            "   macro avg       0.77      0.75      0.76       267\n",
            "weighted avg       0.77      0.77      0.77       267\n",
            "\n"
          ]
        }
      ]
    },
    {
      "cell_type": "markdown",
      "source": [
        "* true positives-71\n",
        "* false negatives - 39\n",
        "* true negatives - 135\n",
        "* false positives - 22"
      ],
      "metadata": {
        "id": "BGRDE396LULO"
      }
    },
    {
      "cell_type": "code",
      "source": [
        "accuracies"
      ],
      "metadata": {
        "colab": {
          "base_uri": "https://localhost:8080/"
        },
        "id": "EbJHVfz6jaCI",
        "outputId": "b4b4b9a1-d7ce-4037-e439-b044fa4e2c06"
      },
      "execution_count": null,
      "outputs": [
        {
          "output_type": "execute_result",
          "data": {
            "text/plain": [
              "[['80-20: Accuracy ',\n",
              "  0.7134831460674157,\n",
              "  'f1 (+ve class): ',\n",
              "  0.6222222222222222],\n",
              " ['70-30: Accuracy ',\n",
              "  0.7715355805243446,\n",
              "  'f1 (+ve class): ',\n",
              "  0.6995073891625616]]"
            ]
          },
          "metadata": {},
          "execution_count": 88
        }
      ]
    },
    {
      "cell_type": "markdown",
      "source": [
        "The 70-30 train test split has higher accuracy (77%) than the 80-20 split (71%)."
      ],
      "metadata": {
        "id": "nUEN9mGLjc6N"
      }
    },
    {
      "cell_type": "markdown",
      "source": [
        "### 60-40 split"
      ],
      "metadata": {
        "id": "quyUz3XbhRmu"
      }
    },
    {
      "cell_type": "code",
      "source": [
        "#splitting into test and train (60-40)\n",
        "from sklearn.model_selection import train_test_split\n",
        "X_train, X_test, y_train, y_test = train_test_split(X, y, test_size=0.40, random_state=0)\n",
        "\n",
        "# Training and Predictions\n",
        "from sklearn.neighbors import KNeighborsClassifier\n",
        "classifier = KNeighborsClassifier(n_neighbors=5)\n",
        "classifier.fit(X_train, y_train)\n",
        "\n",
        "y_pred = classifier.predict(X_test)\n",
        "\n",
        "# Evaluating the model\n",
        "accuracy = metrics.accuracy_score(y_test, y_pred)\n",
        "accuracies.append(['60-40: Accuracy ', accuracy, 'f1 (+ve class): ', metrics.f1_score(y_test, y_pred)])\n",
        "print('Accuracy score: ', accuracy)\n",
        "print(metrics.confusion_matrix(y_test, y_pred))\n",
        "metrics.ConfusionMatrixDisplay.from_predictions(y_test, y_pred, display_labels=['no', 'yes'])\n",
        "plt.show()\n",
        "print(metrics.classification_report(y_test, y_pred))"
      ],
      "metadata": {
        "colab": {
          "base_uri": "https://localhost:8080/",
          "height": 487
        },
        "id": "1xrI5-SLjTN1",
        "outputId": "a92191b2-a00d-485e-b086-6157c65b243b"
      },
      "execution_count": null,
      "outputs": [
        {
          "output_type": "stream",
          "name": "stdout",
          "text": [
            "Accuracy score:  0.7865168539325843\n",
            "[[187  29]\n",
            " [ 47  93]]\n"
          ]
        },
        {
          "output_type": "display_data",
          "data": {
            "text/plain": [
              "<Figure size 432x288 with 2 Axes>"
            ],
            "image/png": "[encoded data removed]"
          },
          "metadata": {
            "needs_background": "light"
          }
        },
        {
          "output_type": "stream",
          "name": "stdout",
          "text": [
            "              precision    recall  f1-score   support\n",
            "\n",
            "           0       0.80      0.87      0.83       216\n",
            "           1       0.76      0.66      0.71       140\n",
            "\n",
            "    accuracy                           0.79       356\n",
            "   macro avg       0.78      0.77      0.77       356\n",
            "weighted avg       0.78      0.79      0.78       356\n",
            "\n"
          ]
        }
      ]
    },
    {
      "cell_type": "markdown",
      "source": [
        "* true positives-93\n",
        "* false negatives - 47\n",
        "* true negatives - 187\n",
        "* false positives - 29"
      ],
      "metadata": {
        "id": "e26KCNdFL2y0"
      }
    },
    {
      "cell_type": "code",
      "source": [
        "accuracies"
      ],
      "metadata": {
        "colab": {
          "base_uri": "https://localhost:8080/"
        },
        "id": "Nu2AAt81jzLd",
        "outputId": "d4d21039-c8c4-498f-b302-96ef54bd0af9"
      },
      "execution_count": null,
      "outputs": [
        {
          "output_type": "execute_result",
          "data": {
            "text/plain": [
              "[['80-20: Accuracy ',\n",
              "  0.7134831460674157,\n",
              "  'f1 (+ve class): ',\n",
              "  0.6222222222222222],\n",
              " ['70-30: Accuracy ',\n",
              "  0.7715355805243446,\n",
              "  'f1 (+ve class): ',\n",
              "  0.6995073891625616],\n",
              " ['60-40: Accuracy ',\n",
              "  0.7865168539325843,\n",
              "  'f1 (+ve class): ',\n",
              "  0.7099236641221374]]"
            ]
          },
          "metadata": {},
          "execution_count": 90
        }
      ]
    },
    {
      "cell_type": "markdown",
      "source": [
        "The 60-40 train-test split gave the best accuracy. The second best accuracy was by the 70-30 split, with the 80-20 split being the least accurate. "
      ],
      "metadata": {
        "id": "FwQ0e5I6j2wl"
      }
    },
    {
      "cell_type": "markdown",
      "source": [
        "### Optimization"
      ],
      "metadata": {
        "id": "aYW1PMkUhYp-"
      }
    },
    {
      "cell_type": "markdown",
      "source": [
        "Optimizing best model so far (60-40 train-test split)."
      ],
      "metadata": {
        "id": "2Eo0Lg0jlIlM"
      }
    },
    {
      "cell_type": "code",
      "source": [
        "from sklearn.model_selection import train_test_split\n",
        "X_train, X_test, y_train, y_test = train_test_split(X, y, test_size=0.40, random_state=0)"
      ],
      "metadata": {
        "id": "6_LJ_yK4ly93"
      },
      "execution_count": null,
      "outputs": []
    },
    {
      "cell_type": "markdown",
      "source": [
        "#### Varying the Number of Nearest Neighbours"
      ],
      "metadata": {
        "id": "PxlA8hSbhogy"
      }
    },
    {
      "cell_type": "code",
      "source": [
        "#using grid search to tune hyperparameters\n",
        "#finding best parameter values from range below\n",
        "parameters = {'n_neighbors': np.arange(3, 15, 2)}\n",
        "\n",
        "knn = KNeighborsClassifier()\n",
        "#finding values\n",
        "search = GridSearchCV(estimator=knn,param_grid=parameters,scoring='accuracy')\n",
        "search.fit(X_train,y_train)\n",
        "print(search.best_params_)"
      ],
      "metadata": {
        "colab": {
          "base_uri": "https://localhost:8080/"
        },
        "id": "N6NWmg-VlVwE",
        "outputId": "6b39e4f8-4ec6-4e56-8c3a-8ff15772fcec"
      },
      "execution_count": null,
      "outputs": [
        {
          "output_type": "stream",
          "name": "stdout",
          "text": [
            "{'n_neighbors': 11}\n"
          ]
        }
      ]
    },
    {
      "cell_type": "code",
      "source": [
        "# Training and Predictions\n",
        "from sklearn.neighbors import KNeighborsClassifier\n",
        "classifier = KNeighborsClassifier(n_neighbors=11)\n",
        "classifier.fit(X_train, y_train)\n",
        "\n",
        "y_pred = classifier.predict(X_test)\n",
        "\n",
        "# Evaluating the model\n",
        "accuracy = metrics.accuracy_score(y_test, y_pred)\n",
        "accuracies.append(['(11 neighbours) 60-40: Accuracy ', accuracy, 'f1 (+ve class): ', metrics.f1_score(y_test, y_pred)])\n",
        "print('Accuracy score: ', accuracy)\n",
        "print(metrics.confusion_matrix(y_test, y_pred))\n",
        "metrics.ConfusionMatrixDisplay.from_predictions(y_test, y_pred, display_labels=['no', 'yes'])\n",
        "plt.show()\n",
        "print(metrics.classification_report(y_test, y_pred))"
      ],
      "metadata": {
        "colab": {
          "base_uri": "https://localhost:8080/",
          "height": 487
        },
        "id": "dFzUuIcZmflg",
        "outputId": "7111e549-6695-4b75-c1e3-3baffb6d5b1d"
      },
      "execution_count": null,
      "outputs": [
        {
          "output_type": "stream",
          "name": "stdout",
          "text": [
            "Accuracy score:  0.7921348314606742\n",
            "[[193  23]\n",
            " [ 51  89]]\n"
          ]
        },
        {
          "output_type": "display_data",
          "data": {
            "text/plain": [
              "<Figure size 432x288 with 2 Axes>"
            ],
            "image/png": "[encoded data removed]"
          },
          "metadata": {
            "needs_background": "light"
          }
        },
        {
          "output_type": "stream",
          "name": "stdout",
          "text": [
            "              precision    recall  f1-score   support\n",
            "\n",
            "           0       0.79      0.89      0.84       216\n",
            "           1       0.79      0.64      0.71       140\n",
            "\n",
            "    accuracy                           0.79       356\n",
            "   macro avg       0.79      0.76      0.77       356\n",
            "weighted avg       0.79      0.79      0.79       356\n",
            "\n"
          ]
        }
      ]
    },
    {
      "cell_type": "markdown",
      "source": [
        "* true positives-89\n",
        "* false negatives - 51\n",
        "* true negatives - 193\n",
        "* false positives - 23"
      ],
      "metadata": {
        "id": "8n0LOj7zMW-m"
      }
    },
    {
      "cell_type": "code",
      "source": [
        "accuracies"
      ],
      "metadata": {
        "colab": {
          "base_uri": "https://localhost:8080/"
        },
        "id": "4DFbiRCHms1u",
        "outputId": "431178c4-f7c1-432a-82a1-2483060c397d"
      },
      "execution_count": null,
      "outputs": [
        {
          "output_type": "execute_result",
          "data": {
            "text/plain": [
              "[['80-20: Accuracy ',\n",
              "  0.7134831460674157,\n",
              "  'f1 (+ve class): ',\n",
              "  0.6222222222222222],\n",
              " ['70-30: Accuracy ',\n",
              "  0.7715355805243446,\n",
              "  'f1 (+ve class): ',\n",
              "  0.6995073891625616],\n",
              " ['60-40: Accuracy ',\n",
              "  0.7865168539325843,\n",
              "  'f1 (+ve class): ',\n",
              "  0.7099236641221374],\n",
              " ['(11 neighbours) 60-40: Accuracy ',\n",
              "  0.7921348314606742,\n",
              "  'f1 (+ve class): ',\n",
              "  0.7063492063492063]]"
            ]
          },
          "metadata": {},
          "execution_count": 94
        }
      ]
    },
    {
      "cell_type": "markdown",
      "source": [
        "The model with 11 nearest neighbours had a higher accuracy than 5 nearest neighbours (0.792 vs 0.787). f1 slightly lower (0.7063 vs 0.7099)"
      ],
      "metadata": {
        "id": "Uj76WhO7UPx_"
      }
    },
    {
      "cell_type": "markdown",
      "source": [
        "#### Distance Metric"
      ],
      "metadata": {
        "id": "tMM_WLMwhkON"
      }
    },
    {
      "cell_type": "code",
      "source": [
        "from sklearn.model_selection import train_test_split\n",
        "X_train, X_test, y_train, y_test = train_test_split(X, y, test_size=0.40, random_state=0)"
      ],
      "metadata": {
        "id": "lQSIpijTydNG"
      },
      "execution_count": null,
      "outputs": []
    },
    {
      "cell_type": "code",
      "source": [
        "#using grid search to tune hyperparameters\n",
        "#finding best parameter values from range below\n",
        "parameters = {'n_neighbors': np.arange(3, 15, 2),\n",
        "              'metric': ['minkowski', 'euclidean','manhattan']}\n",
        "\n",
        "knn = KNeighborsClassifier()\n",
        "#finding values\n",
        "search = GridSearchCV(estimator=knn,param_grid=parameters,scoring='accuracy')\n",
        "search.fit(X_train,y_train)\n",
        "print(search.best_params_)\n"
      ],
      "metadata": {
        "colab": {
          "base_uri": "https://localhost:8080/"
        },
        "id": "YtY9tKvnx_EG",
        "outputId": "54db49eb-67c0-49f7-a09b-b61e231c773e"
      },
      "execution_count": null,
      "outputs": [
        {
          "output_type": "stream",
          "name": "stdout",
          "text": [
            "{'metric': 'minkowski', 'n_neighbors': 11}\n"
          ]
        }
      ]
    },
    {
      "cell_type": "markdown",
      "source": [
        "The best distance metric is the default which was used with n_neighbours as 11 in the model under the section above 'varying number of nearest neighbours', which resulted in an accuracy of 0.7921."
      ],
      "metadata": {
        "id": "WnC5i9Cj19FN"
      }
    },
    {
      "cell_type": "code",
      "source": [
        ""
      ],
      "metadata": {
        "id": "aad6yR1P4e5V"
      },
      "execution_count": null,
      "outputs": []
    },
    {
      "cell_type": "markdown",
      "source": [
        "#### Dimensionality Reduction (LDA)"
      ],
      "metadata": {
        "id": "ufsL9wcAhbuN"
      }
    },
    {
      "cell_type": "code",
      "source": [
        "from sklearn.discriminant_analysis import LinearDiscriminantAnalysis as LDA\n",
        "lda = LDA(n_components=1)\n",
        "X_train = lda.fit_transform(X_train, y_train)\n",
        "X_test = lda.transform(X_test)\n",
        "\n",
        "# Training and Predictions\n",
        "from sklearn.neighbors import KNeighborsClassifier\n",
        "classifier = KNeighborsClassifier(n_neighbors=11)\n",
        "classifier.fit(X_train, y_train)\n",
        "\n",
        "y_pred = classifier.predict(X_test)\n",
        "\n",
        "# Evaluating the model\n",
        "accuracy = metrics.accuracy_score(y_test, y_pred)\n",
        "accuracies.append(['LDA + (11 neighbours) 60-40: Accuracy ', accuracy, 'f1 (+ve class): ', metrics.f1_score(y_test, y_pred)])\n",
        "print('Accuracy score: ', accuracy)\n",
        "print(metrics.confusion_matrix(y_test, y_pred))\n",
        "metrics.ConfusionMatrixDisplay.from_predictions(y_test, y_pred, display_labels=['no', 'yes'])\n",
        "plt.show()\n",
        "print(metrics.classification_report(y_test, y_pred))"
      ],
      "metadata": {
        "colab": {
          "base_uri": "https://localhost:8080/",
          "height": 487
        },
        "id": "tuenph6dk_Ec",
        "outputId": "cb9b1205-8950-4802-b31a-1feb80607bc8"
      },
      "execution_count": null,
      "outputs": [
        {
          "output_type": "stream",
          "name": "stdout",
          "text": [
            "Accuracy score:  0.7921348314606742\n",
            "[[193  23]\n",
            " [ 51  89]]\n"
          ]
        },
        {
          "output_type": "display_data",
          "data": {
            "text/plain": [
              "<Figure size 432x288 with 2 Axes>"
            ],
            "image/png": "[encoded data removed]"
          },
          "metadata": {
            "needs_background": "light"
          }
        },
        {
          "output_type": "stream",
          "name": "stdout",
          "text": [
            "              precision    recall  f1-score   support\n",
            "\n",
            "           0       0.79      0.89      0.84       216\n",
            "           1       0.79      0.64      0.71       140\n",
            "\n",
            "    accuracy                           0.79       356\n",
            "   macro avg       0.79      0.76      0.77       356\n",
            "weighted avg       0.79      0.79      0.79       356\n",
            "\n"
          ]
        }
      ]
    },
    {
      "cell_type": "markdown",
      "source": [
        "* true positives-89\n",
        "* false negatives - 51\n",
        "* true negatives - 193\n",
        "* false positives - 23"
      ],
      "metadata": {
        "id": "l5Yf-D7TMl4p"
      }
    },
    {
      "cell_type": "code",
      "source": [
        "accuracies"
      ],
      "metadata": {
        "colab": {
          "base_uri": "https://localhost:8080/"
        },
        "id": "FC_Bxi2BzVi0",
        "outputId": "b0ad34a6-fb65-4363-9435-a9563c916418"
      },
      "execution_count": null,
      "outputs": [
        {
          "output_type": "execute_result",
          "data": {
            "text/plain": [
              "[['80-20: Accuracy ',\n",
              "  0.7134831460674157,\n",
              "  'f1 (+ve class): ',\n",
              "  0.6222222222222222],\n",
              " ['70-30: Accuracy ',\n",
              "  0.7715355805243446,\n",
              "  'f1 (+ve class): ',\n",
              "  0.6995073891625616],\n",
              " ['60-40: Accuracy ',\n",
              "  0.7865168539325843,\n",
              "  'f1 (+ve class): ',\n",
              "  0.7099236641221374],\n",
              " ['(11 neighbours) 60-40: Accuracy ',\n",
              "  0.7921348314606742,\n",
              "  'f1 (+ve class): ',\n",
              "  0.7063492063492063],\n",
              " ['LDA + (11 neighbours) 60-40: Accuracy ',\n",
              "  0.7921348314606742,\n",
              "  'f1 (+ve class): ',\n",
              "  0.7063492063492063]]"
            ]
          },
          "metadata": {},
          "execution_count": 98
        }
      ]
    },
    {
      "cell_type": "markdown",
      "source": [
        "The accuracy is the same as a similar model without LDA."
      ],
      "metadata": {
        "id": "kghxJreDwyip"
      }
    },
    {
      "cell_type": "markdown",
      "source": [
        "#### Feature selection (correlation)"
      ],
      "metadata": {
        "id": "pnTjjOJX6cfc"
      }
    },
    {
      "cell_type": "code",
      "source": [
        "sns.heatmap(df.corr(), annot=True)"
      ],
      "metadata": {
        "colab": {
          "base_uri": "https://localhost:8080/",
          "height": 327
        },
        "id": "jC32HlLz6iQV",
        "outputId": "4f4c19a2-c558-4598-e088-8ef3965b586c"
      },
      "execution_count": null,
      "outputs": [
        {
          "output_type": "execute_result",
          "data": {
            "text/plain": [
              "<matplotlib.axes._subplots.AxesSubplot at 0x7f249b258a50>"
            ]
          },
          "metadata": {},
          "execution_count": 99
        },
        {
          "output_type": "display_data",
          "data": {
            "text/plain": [
              "<Figure size 432x288 with 2 Axes>"
            ],
            "image/png": "[encoded data removed]"
          },
          "metadata": {
            "needs_background": "light"
          }
        }
      ]
    },
    {
      "cell_type": "code",
      "source": [
        "#As can be seen from the correlation heatmap above, fare and pclass\n",
        "#have a strong correlation (> 0.5). Will test dropping one of the columns\n",
        "\n",
        "X = df.drop(['Survived', 'Pclass'], axis=1)\n",
        "y = df['Survived']\n",
        "\n",
        "#Feature scaling\n",
        "from sklearn.preprocessing import StandardScaler\n",
        "sc = StandardScaler()\n",
        "X = sc.fit_transform(X)\n",
        "\n",
        "from sklearn.model_selection import train_test_split\n",
        "X_train, X_test, y_train, y_test = train_test_split(X, y, test_size=0.40, random_state=0)\n",
        "\n",
        "\n",
        "# Training and Predictions\n",
        "from sklearn.neighbors import KNeighborsClassifier\n",
        "classifier = KNeighborsClassifier(n_neighbors=11)\n",
        "classifier.fit(X_train, y_train)\n",
        "\n",
        "y_pred = classifier.predict(X_test)\n",
        "\n",
        "# Evaluating the model\n",
        "accuracy = metrics.accuracy_score(y_test, y_pred)\n",
        "accuracies.append(['Drop Pclass + (11 neighbours) 60-40: Accuracy ', accuracy, 'f1 (+ve class): ', metrics.f1_score(y_test, y_pred)])\n",
        "print('Accuracy score: ', accuracy)\n",
        "print(metrics.confusion_matrix(y_test, y_pred))\n",
        "metrics.ConfusionMatrixDisplay.from_predictions(y_test, y_pred, display_labels=['no', 'yes'])\n",
        "plt.show()\n",
        "print(metrics.classification_report(y_test, y_pred))"
      ],
      "metadata": {
        "colab": {
          "base_uri": "https://localhost:8080/",
          "height": 487
        },
        "id": "1mnN3wxW5ipP",
        "outputId": "1e233782-b4e3-49ba-df89-3a5bfea6325b"
      },
      "execution_count": null,
      "outputs": [
        {
          "output_type": "stream",
          "name": "stdout",
          "text": [
            "Accuracy score:  0.800561797752809\n",
            "[[185  31]\n",
            " [ 40 100]]\n"
          ]
        },
        {
          "output_type": "display_data",
          "data": {
            "text/plain": [
              "<Figure size 432x288 with 2 Axes>"
            ],
            "image/png": "[encoded data removed]"
          },
          "metadata": {
            "needs_background": "light"
          }
        },
        {
          "output_type": "stream",
          "name": "stdout",
          "text": [
            "              precision    recall  f1-score   support\n",
            "\n",
            "           0       0.82      0.86      0.84       216\n",
            "           1       0.76      0.71      0.74       140\n",
            "\n",
            "    accuracy                           0.80       356\n",
            "   macro avg       0.79      0.79      0.79       356\n",
            "weighted avg       0.80      0.80      0.80       356\n",
            "\n"
          ]
        }
      ]
    },
    {
      "cell_type": "markdown",
      "source": [
        "* true positives-100\n",
        "* false negatives - 40\n",
        "* true negatives - 185\n",
        "* false positives - 31"
      ],
      "metadata": {
        "id": "4O-vDfotMpVz"
      }
    },
    {
      "cell_type": "code",
      "source": [
        "accuracies"
      ],
      "metadata": {
        "colab": {
          "base_uri": "https://localhost:8080/"
        },
        "id": "NJ-dmavH7wi_",
        "outputId": "7f18a20d-f8a5-4017-bc86-7994505c0a68"
      },
      "execution_count": null,
      "outputs": [
        {
          "output_type": "execute_result",
          "data": {
            "text/plain": [
              "[['80-20: Accuracy ',\n",
              "  0.7134831460674157,\n",
              "  'f1 (+ve class): ',\n",
              "  0.6222222222222222],\n",
              " ['70-30: Accuracy ',\n",
              "  0.7715355805243446,\n",
              "  'f1 (+ve class): ',\n",
              "  0.6995073891625616],\n",
              " ['60-40: Accuracy ',\n",
              "  0.7865168539325843,\n",
              "  'f1 (+ve class): ',\n",
              "  0.7099236641221374],\n",
              " ['(11 neighbours) 60-40: Accuracy ',\n",
              "  0.7921348314606742,\n",
              "  'f1 (+ve class): ',\n",
              "  0.7063492063492063],\n",
              " ['LDA + (11 neighbours) 60-40: Accuracy ',\n",
              "  0.7921348314606742,\n",
              "  'f1 (+ve class): ',\n",
              "  0.7063492063492063],\n",
              " ['Drop Pclass + (11 neighbours) 60-40: Accuracy ',\n",
              "  0.800561797752809,\n",
              "  'f1 (+ve class): ',\n",
              "  0.7380073800738008]]"
            ]
          },
          "metadata": {},
          "execution_count": 101
        }
      ]
    },
    {
      "cell_type": "markdown",
      "source": [
        "Using 11-neighbours as identified by the grid search(the 60-40 split), and dropping Pclass which was highly correlated to Fare resulted in the best  accuracy - 0.80. Other metrics such as f1-scores are also the highest (0.74)."
      ],
      "metadata": {
        "id": "Xs9KaxWC73ja"
      }
    },
    {
      "cell_type": "markdown",
      "metadata": {
        "id": "7e0eMZtITg-1"
      },
      "source": [
        "## Conclusions and Recommendations"
      ]
    },
    {
      "cell_type": "markdown",
      "metadata": {
        "id": "0rMf1djm_t7j"
      },
      "source": [
        "### Conclusion"
      ]
    },
    {
      "cell_type": "markdown",
      "metadata": {
        "id": "hK7bpYrn_yC-"
      },
      "source": [
        "The dataset was loaded, and cleaned, and univariate and bivariate analysis carried out providing valuable insights on the target and feature variables. Multivariate analysis and modelling were then carried out. The major objective was achieved - building a model that is able to determine whether or not a passenger survived the titanic.\n"
      ]
    },
    {
      "cell_type": "markdown",
      "metadata": {
        "id": "VNYOaHIzEjiS"
      },
      "source": [
        "\n",
        "**Some univariate analysis results:**\n",
        "* A higher number of passengers didn’t survive compared to the number of those who did.\n",
        "* Most passengers were in third class.\n",
        "* Most passengers were male.\n",
        "* Most passengers had no siblings or spouses aboard.\n",
        "* Most passengers had no parents or children aboard.\n",
        "* Most passengers embarked at point ‘S’ \n",
        "* Most passengers were aged between 24 and 32 etc"
      ]
    },
    {
      "cell_type": "markdown",
      "metadata": {
        "id": "nvid84dwP-ta"
      },
      "source": [
        "**Some bivariate analysis results**:\n",
        "\n",
        "* Most passengers in first class survived. Most in second and third class didn’t survive, with the highest proportion of not surviving in third class.\n",
        "* Most female passengers survived while most male passengers did not survive.\n",
        "* Most passengers who embarked at points S and Q didn’t survive. Most passengers who embarked at point C survived.\n",
        "* The average age of those who survived was slightly lower than the average age of those who did not survive.\n",
        "* The average fare paid of those who survived was higher than the average fare paid of those who did not survive."
      ]
    },
    {
      "cell_type": "markdown",
      "metadata": {
        "id": "fWveN4CcQDk6"
      },
      "source": [
        "\n",
        "**Modelling**\n",
        "\n",
        "KNN ( K-Nearest-Neighbours) was applied.\n",
        "\n",
        "Initially, 5 neighbours were used in modelling, with different ratios of train size:test size:\n",
        "\n",
        "* 80-20: , 0.713 accuracy, 0.622 f1\n",
        "* 70-30: , 0.771 accuracy, 0.70 f1\n",
        "* 60-40: , 0.787 accuracy, 0.71 f1\n",
        "\n",
        "As can be seen above, train-test split of 60:40 gave the model with the best accuracy.\n",
        "\n",
        "Using the train:test ratio of 60:40, various optimization techniques were tested to see if a model with accuracy > the 0.787 could be identified:\n",
        "* First, a grid search was used to identify the best number of neighbours. This number was 11, and using this value gave an accuracy of 0.792 (f1-0.71), which is greater than the 0.787 accuracy using 5 n_neighbours.\n",
        "* Next, a grid search was used to identify if there was a better distance metric, but the result gave the default (minkowski) which we used above so it would result in the same accuracy.\n",
        "* Thirdly, a dimensionality reduction technique - LDA- was used, with 11 neighbours as identified by the grid search. The accuracy was the same as the above - 0.792 (f1-0.71)\n",
        "* Finally, feature selection using pearsons correlation was done. Pclass and Fare had a correlation of -0.55, which is strong. Pclass was dropped, and knn algorithm ran with 11 neighbours. **The resulting model had an accuracy of 0.80, which is the best accuracy identified. The f1-score (0.74- positive class) was also the best out of all the models.**"
      ]
    },
    {
      "cell_type": "markdown",
      "metadata": {
        "id": "7iV4NlV6gI4p"
      },
      "source": [
        "### Recommendation"
      ]
    },
    {
      "cell_type": "markdown",
      "metadata": {
        "id": "l0DapIEUgPLm"
      },
      "source": [
        "Based on the analysis, for determining whether or not a passenger survived the titanic, we would recommend using a 60-40 train-test split, then with 11 nearest neighbours, using these features: 'Sex', 'Age', 'SibSp', 'Parch', 'Fare', 'Embarked'.\n",
        "\n",
        "Out of all the models tested, it was the one with the best predictive power (highest accuracy, f1).\n",
        "\n",
        "To optimize the model even further, we recommend exploring implementing weighted voting, k-fold cross validation."
      ]
    }
  ]
}